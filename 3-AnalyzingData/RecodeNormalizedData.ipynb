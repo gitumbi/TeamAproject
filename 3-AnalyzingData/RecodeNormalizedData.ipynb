{
 "cells": [
  {
   "cell_type": "code",
   "execution_count": 1,
   "id": "e4cf92f9-2921-43ab-a580-f174a2478595",
   "metadata": {},
   "outputs": [],
   "source": [
    "import pandas as pd"
   ]
  },
  {
   "cell_type": "code",
   "execution_count": 2,
   "id": "c8e2fdbd-4653-4e9d-9c9a-665a4c7283e8",
   "metadata": {},
   "outputs": [],
   "source": [
    "Recode_data = pd.read_csv(\"../Data/Normalized Datasets/NormalizedMergedData.csv\")"
   ]
  },
  {
   "cell_type": "code",
   "execution_count": 3,
   "id": "63a2c2a8-dca9-4c62-a06c-74d22febf38c",
   "metadata": {},
   "outputs": [
    {
     "data": {
      "text/html": [
       "<div>\n",
       "<style scoped>\n",
       "    .dataframe tbody tr th:only-of-type {\n",
       "        vertical-align: middle;\n",
       "    }\n",
       "\n",
       "    .dataframe tbody tr th {\n",
       "        vertical-align: top;\n",
       "    }\n",
       "\n",
       "    .dataframe thead th {\n",
       "        text-align: right;\n",
       "    }\n",
       "</style>\n",
       "<table border=\"1\" class=\"dataframe\">\n",
       "  <thead>\n",
       "    <tr style=\"text-align: right;\">\n",
       "      <th></th>\n",
       "      <th>Crops</th>\n",
       "      <th>Year</th>\n",
       "      <th>Value in Tonnes</th>\n",
       "      <th>Value in US$1000</th>\n",
       "      <th>Temperature Change</th>\n",
       "    </tr>\n",
       "  </thead>\n",
       "  <tbody>\n",
       "    <tr>\n",
       "      <th>0</th>\n",
       "      <td>Maize</td>\n",
       "      <td>1999</td>\n",
       "      <td>239548580.0</td>\n",
       "      <td>17247498.0</td>\n",
       "      <td>0.755</td>\n",
       "    </tr>\n",
       "    <tr>\n",
       "      <th>1</th>\n",
       "      <td>Soybeans</td>\n",
       "      <td>1999</td>\n",
       "      <td>72223460.0</td>\n",
       "      <td>12277988.0</td>\n",
       "      <td>0.755</td>\n",
       "    </tr>\n",
       "    <tr>\n",
       "      <th>2</th>\n",
       "      <td>Wheat</td>\n",
       "      <td>1999</td>\n",
       "      <td>62567284.0</td>\n",
       "      <td>5693623.0</td>\n",
       "      <td>0.755</td>\n",
       "    </tr>\n",
       "    <tr>\n",
       "      <th>3</th>\n",
       "      <td>Maize</td>\n",
       "      <td>2000</td>\n",
       "      <td>251853900.0</td>\n",
       "      <td>18385335.0</td>\n",
       "      <td>1.000</td>\n",
       "    </tr>\n",
       "    <tr>\n",
       "      <th>4</th>\n",
       "      <td>Soybeans</td>\n",
       "      <td>2000</td>\n",
       "      <td>75055290.0</td>\n",
       "      <td>12534233.0</td>\n",
       "      <td>1.000</td>\n",
       "    </tr>\n",
       "  </tbody>\n",
       "</table>\n",
       "</div>"
      ],
      "text/plain": [
       "      Crops  Year  Value in Tonnes  Value in US$1000  Temperature Change\n",
       "0     Maize  1999      239548580.0        17247498.0               0.755\n",
       "1  Soybeans  1999       72223460.0        12277988.0               0.755\n",
       "2     Wheat  1999       62567284.0         5693623.0               0.755\n",
       "3     Maize  2000      251853900.0        18385335.0               1.000\n",
       "4  Soybeans  2000       75055290.0        12534233.0               1.000"
      ]
     },
     "execution_count": 3,
     "metadata": {},
     "output_type": "execute_result"
    }
   ],
   "source": [
    "Recode_data.head()"
   ]
  },
  {
   "cell_type": "code",
   "execution_count": 4,
   "id": "223ccc34-7be1-4870-b589-271b167cdf04",
   "metadata": {},
   "outputs": [],
   "source": [
    "##Change column names with spaces"
   ]
  },
  {
   "cell_type": "code",
   "execution_count": 5,
   "id": "37b91bfb-2afd-49b6-8f33-6121f02b63ca",
   "metadata": {},
   "outputs": [],
   "source": [
    "Recode_data.rename(columns = {'Value in Tonnes' : 'Tonnes', 'Value in US$1000' : 'US$1000', 'Temperature Change': 'TempChange'}, inplace = True)"
   ]
  },
  {
   "cell_type": "code",
   "execution_count": 6,
   "id": "21a42905-b483-4321-91b5-5c0905ee62f1",
   "metadata": {},
   "outputs": [
    {
     "data": {
      "text/html": [
       "<div>\n",
       "<style scoped>\n",
       "    .dataframe tbody tr th:only-of-type {\n",
       "        vertical-align: middle;\n",
       "    }\n",
       "\n",
       "    .dataframe tbody tr th {\n",
       "        vertical-align: top;\n",
       "    }\n",
       "\n",
       "    .dataframe thead th {\n",
       "        text-align: right;\n",
       "    }\n",
       "</style>\n",
       "<table border=\"1\" class=\"dataframe\">\n",
       "  <thead>\n",
       "    <tr style=\"text-align: right;\">\n",
       "      <th></th>\n",
       "      <th>Crops</th>\n",
       "      <th>Year</th>\n",
       "      <th>Tonnes</th>\n",
       "      <th>US$1000</th>\n",
       "      <th>TempChange</th>\n",
       "    </tr>\n",
       "  </thead>\n",
       "  <tbody>\n",
       "    <tr>\n",
       "      <th>0</th>\n",
       "      <td>Maize</td>\n",
       "      <td>1999</td>\n",
       "      <td>239548580.0</td>\n",
       "      <td>17247498.0</td>\n",
       "      <td>0.755</td>\n",
       "    </tr>\n",
       "    <tr>\n",
       "      <th>1</th>\n",
       "      <td>Soybeans</td>\n",
       "      <td>1999</td>\n",
       "      <td>72223460.0</td>\n",
       "      <td>12277988.0</td>\n",
       "      <td>0.755</td>\n",
       "    </tr>\n",
       "    <tr>\n",
       "      <th>2</th>\n",
       "      <td>Wheat</td>\n",
       "      <td>1999</td>\n",
       "      <td>62567284.0</td>\n",
       "      <td>5693623.0</td>\n",
       "      <td>0.755</td>\n",
       "    </tr>\n",
       "    <tr>\n",
       "      <th>3</th>\n",
       "      <td>Maize</td>\n",
       "      <td>2000</td>\n",
       "      <td>251853900.0</td>\n",
       "      <td>18385335.0</td>\n",
       "      <td>1.000</td>\n",
       "    </tr>\n",
       "    <tr>\n",
       "      <th>4</th>\n",
       "      <td>Soybeans</td>\n",
       "      <td>2000</td>\n",
       "      <td>75055290.0</td>\n",
       "      <td>12534233.0</td>\n",
       "      <td>1.000</td>\n",
       "    </tr>\n",
       "  </tbody>\n",
       "</table>\n",
       "</div>"
      ],
      "text/plain": [
       "      Crops  Year       Tonnes     US$1000  TempChange\n",
       "0     Maize  1999  239548580.0  17247498.0       0.755\n",
       "1  Soybeans  1999   72223460.0  12277988.0       0.755\n",
       "2     Wheat  1999   62567284.0   5693623.0       0.755\n",
       "3     Maize  2000  251853900.0  18385335.0       1.000\n",
       "4  Soybeans  2000   75055290.0  12534233.0       1.000"
      ]
     },
     "execution_count": 6,
     "metadata": {},
     "output_type": "execute_result"
    }
   ],
   "source": [
    "Recode_data.head()"
   ]
  },
  {
   "cell_type": "code",
   "execution_count": 7,
   "id": "def11f76-1640-43dc-9144-e71c7d543040",
   "metadata": {},
   "outputs": [],
   "source": [
    "##Data Types"
   ]
  },
  {
   "cell_type": "code",
   "execution_count": 8,
   "id": "741fa4b6-2788-4b1f-942e-5b7a056dc43b",
   "metadata": {},
   "outputs": [
    {
     "data": {
      "text/plain": [
       "Crops          object\n",
       "Year            int64\n",
       "Tonnes        float64\n",
       "US$1000       float64\n",
       "TempChange    float64\n",
       "dtype: object"
      ]
     },
     "execution_count": 8,
     "metadata": {},
     "output_type": "execute_result"
    }
   ],
   "source": [
    "Recode_data.dtypes"
   ]
  },
  {
   "cell_type": "code",
   "execution_count": 9,
   "id": "e95482cb-5fff-4914-8fea-c3e564f2253f",
   "metadata": {},
   "outputs": [],
   "source": [
    "##Need to Recode Variables"
   ]
  },
  {
   "cell_type": "code",
   "execution_count": 10,
   "id": "5c025d3e-c662-45c9-9579-3e15df9b2fd5",
   "metadata": {},
   "outputs": [],
   "source": [
    "#Recode Year "
   ]
  },
  {
   "cell_type": "code",
   "execution_count": 11,
   "id": "0ecc4f4f-e91f-4507-bb23-d1f8869fb6db",
   "metadata": {},
   "outputs": [
    {
     "data": {
      "text/plain": [
       "array([1999, 2000, 2001, 2002, 2003, 2004, 2005, 2006, 2007, 2008, 2009,\n",
       "       2010, 2011, 2012, 2013, 2014, 2015, 2016, 2017, 2018, 2019],\n",
       "      dtype=int64)"
      ]
     },
     "execution_count": 11,
     "metadata": {},
     "output_type": "execute_result"
    }
   ],
   "source": [
    "Recode_data['Year'].unique()"
   ]
  },
  {
   "cell_type": "code",
   "execution_count": 12,
   "id": "93d9f42a-7ba9-47c2-aaaf-84d17d0fc165",
   "metadata": {},
   "outputs": [],
   "source": [
    "def year_recode (series):\n",
    "    if series == 1999:\n",
    "        return 1\n",
    "    if series == 2000:\n",
    "        return 2\n",
    "    if series == 2001:\n",
    "        return 3\n",
    "    if series == 2002:\n",
    "        return 4\n",
    "    if series == 2003:\n",
    "        return 5\n",
    "    if series == 2004:\n",
    "        return 6\n",
    "    if series == 2005:\n",
    "        return 7\n",
    "    if series == 2006:\n",
    "        return 8\n",
    "    if series == 2007:\n",
    "        return 9\n",
    "    if series == 2008:\n",
    "        return 10\n",
    "    if series == 2009:\n",
    "        return 11\n",
    "    if series == 2010:\n",
    "        return 12\n",
    "    if series == 2011:\n",
    "        return 13\n",
    "    if series == 2012:\n",
    "        return 14\n",
    "    if series == 2013:\n",
    "        return 15\n",
    "    if series == 2014:\n",
    "        return 16\n",
    "    if series == 2015:\n",
    "        return 17\n",
    "    if series == 2016:\n",
    "        return 18\n",
    "    if series == 2017:\n",
    "        return 19\n",
    "    if series == 2018:\n",
    "        return 20\n",
    "    if series == 2019:        \n",
    "        return 21"
   ]
  },
  {
   "cell_type": "code",
   "execution_count": 13,
   "id": "e253c572-2843-4383-a252-86e52203cef4",
   "metadata": {},
   "outputs": [],
   "source": [
    "Recode_data['YearR'] = Recode_data['Year'].apply(year_recode)"
   ]
  },
  {
   "cell_type": "code",
   "execution_count": 14,
   "id": "906fe404-6293-45a1-84f9-44ad61a373a8",
   "metadata": {},
   "outputs": [
    {
     "data": {
      "text/html": [
       "<div>\n",
       "<style scoped>\n",
       "    .dataframe tbody tr th:only-of-type {\n",
       "        vertical-align: middle;\n",
       "    }\n",
       "\n",
       "    .dataframe tbody tr th {\n",
       "        vertical-align: top;\n",
       "    }\n",
       "\n",
       "    .dataframe thead th {\n",
       "        text-align: right;\n",
       "    }\n",
       "</style>\n",
       "<table border=\"1\" class=\"dataframe\">\n",
       "  <thead>\n",
       "    <tr style=\"text-align: right;\">\n",
       "      <th></th>\n",
       "      <th>Crops</th>\n",
       "      <th>Year</th>\n",
       "      <th>Tonnes</th>\n",
       "      <th>US$1000</th>\n",
       "      <th>TempChange</th>\n",
       "      <th>YearR</th>\n",
       "    </tr>\n",
       "  </thead>\n",
       "  <tbody>\n",
       "    <tr>\n",
       "      <th>0</th>\n",
       "      <td>Maize</td>\n",
       "      <td>1999</td>\n",
       "      <td>239548580.0</td>\n",
       "      <td>17247498.0</td>\n",
       "      <td>0.755</td>\n",
       "      <td>1</td>\n",
       "    </tr>\n",
       "    <tr>\n",
       "      <th>1</th>\n",
       "      <td>Soybeans</td>\n",
       "      <td>1999</td>\n",
       "      <td>72223460.0</td>\n",
       "      <td>12277988.0</td>\n",
       "      <td>0.755</td>\n",
       "      <td>1</td>\n",
       "    </tr>\n",
       "    <tr>\n",
       "      <th>2</th>\n",
       "      <td>Wheat</td>\n",
       "      <td>1999</td>\n",
       "      <td>62567284.0</td>\n",
       "      <td>5693623.0</td>\n",
       "      <td>0.755</td>\n",
       "      <td>1</td>\n",
       "    </tr>\n",
       "    <tr>\n",
       "      <th>3</th>\n",
       "      <td>Maize</td>\n",
       "      <td>2000</td>\n",
       "      <td>251853900.0</td>\n",
       "      <td>18385335.0</td>\n",
       "      <td>1.000</td>\n",
       "      <td>2</td>\n",
       "    </tr>\n",
       "    <tr>\n",
       "      <th>4</th>\n",
       "      <td>Soybeans</td>\n",
       "      <td>2000</td>\n",
       "      <td>75055290.0</td>\n",
       "      <td>12534233.0</td>\n",
       "      <td>1.000</td>\n",
       "      <td>2</td>\n",
       "    </tr>\n",
       "    <tr>\n",
       "      <th>5</th>\n",
       "      <td>Wheat</td>\n",
       "      <td>2000</td>\n",
       "      <td>60639376.0</td>\n",
       "      <td>5821380.0</td>\n",
       "      <td>1.000</td>\n",
       "      <td>2</td>\n",
       "    </tr>\n",
       "    <tr>\n",
       "      <th>6</th>\n",
       "      <td>Maize</td>\n",
       "      <td>2001</td>\n",
       "      <td>241376650.0</td>\n",
       "      <td>18827379.0</td>\n",
       "      <td>0.784</td>\n",
       "      <td>3</td>\n",
       "    </tr>\n",
       "    <tr>\n",
       "      <th>7</th>\n",
       "      <td>Soybeans</td>\n",
       "      <td>2001</td>\n",
       "      <td>78671470.0</td>\n",
       "      <td>12666107.0</td>\n",
       "      <td>0.784</td>\n",
       "      <td>3</td>\n",
       "    </tr>\n",
       "    <tr>\n",
       "      <th>8</th>\n",
       "      <td>Wheat</td>\n",
       "      <td>2001</td>\n",
       "      <td>52999932.0</td>\n",
       "      <td>5405993.0</td>\n",
       "      <td>0.784</td>\n",
       "      <td>3</td>\n",
       "    </tr>\n",
       "    <tr>\n",
       "      <th>9</th>\n",
       "      <td>Maize</td>\n",
       "      <td>2002</td>\n",
       "      <td>227766880.0</td>\n",
       "      <td>20726786.0</td>\n",
       "      <td>0.953</td>\n",
       "      <td>4</td>\n",
       "    </tr>\n",
       "  </tbody>\n",
       "</table>\n",
       "</div>"
      ],
      "text/plain": [
       "      Crops  Year       Tonnes     US$1000  TempChange  YearR\n",
       "0     Maize  1999  239548580.0  17247498.0       0.755      1\n",
       "1  Soybeans  1999   72223460.0  12277988.0       0.755      1\n",
       "2     Wheat  1999   62567284.0   5693623.0       0.755      1\n",
       "3     Maize  2000  251853900.0  18385335.0       1.000      2\n",
       "4  Soybeans  2000   75055290.0  12534233.0       1.000      2\n",
       "5     Wheat  2000   60639376.0   5821380.0       1.000      2\n",
       "6     Maize  2001  241376650.0  18827379.0       0.784      3\n",
       "7  Soybeans  2001   78671470.0  12666107.0       0.784      3\n",
       "8     Wheat  2001   52999932.0   5405993.0       0.784      3\n",
       "9     Maize  2002  227766880.0  20726786.0       0.953      4"
      ]
     },
     "execution_count": 14,
     "metadata": {},
     "output_type": "execute_result"
    }
   ],
   "source": [
    "Recode_data.head(10)"
   ]
  },
  {
   "cell_type": "code",
   "execution_count": 15,
   "id": "a20980d6-e422-4745-9ed0-847e4ce68be6",
   "metadata": {},
   "outputs": [],
   "source": [
    "#Recode Crops"
   ]
  },
  {
   "cell_type": "code",
   "execution_count": 16,
   "id": "3c730219-161a-4b8b-ad7d-83ab99c8cfdc",
   "metadata": {},
   "outputs": [
    {
     "data": {
      "text/plain": [
       "array(['Maize', 'Soybeans', 'Wheat'], dtype=object)"
      ]
     },
     "execution_count": 16,
     "metadata": {},
     "output_type": "execute_result"
    }
   ],
   "source": [
    "Recode_data['Crops'].unique()"
   ]
  },
  {
   "cell_type": "code",
   "execution_count": 17,
   "id": "0cfbc05b-a59d-4443-a1a2-6350ef1c523c",
   "metadata": {},
   "outputs": [],
   "source": [
    "def Crops_recode (series):\n",
    "    if series == 'Maize':\n",
    "        return 1\n",
    "    if series == 'Soybeans':\n",
    "        return 2\n",
    "    if series == 'Wheat':\n",
    "        return 3"
   ]
  },
  {
   "cell_type": "code",
   "execution_count": 18,
   "id": "ccf14ec4-3b37-4d42-a0c5-1dc901951c05",
   "metadata": {},
   "outputs": [],
   "source": [
    "Recode_data['CropsR'] = Recode_data['Crops'].apply(Crops_recode)"
   ]
  },
  {
   "cell_type": "code",
   "execution_count": 19,
   "id": "7ca6dedd-344b-4b8f-aeee-698e8973a2d0",
   "metadata": {},
   "outputs": [
    {
     "data": {
      "text/plain": [
       "Crops          object\n",
       "Year            int64\n",
       "Tonnes        float64\n",
       "US$1000       float64\n",
       "TempChange    float64\n",
       "YearR           int64\n",
       "CropsR          int64\n",
       "dtype: object"
      ]
     },
     "execution_count": 19,
     "metadata": {},
     "output_type": "execute_result"
    }
   ],
   "source": [
    "Recode_data.dtypes"
   ]
  },
  {
   "cell_type": "code",
   "execution_count": 21,
   "id": "207328f5-3482-482c-baa4-ac7e550707ce",
   "metadata": {},
   "outputs": [],
   "source": [
    "##Recode Tonnes as integer"
   ]
  },
  {
   "cell_type": "code",
   "execution_count": 22,
   "id": "654bf673-c373-4b5e-bf94-18613da67f74",
   "metadata": {},
   "outputs": [],
   "source": [
    "Recode_data['Tonnes'] = Recode_data['Tonnes'].astype('int64')"
   ]
  },
  {
   "cell_type": "code",
   "execution_count": 23,
   "id": "c3166aab-3abc-4158-b046-8ef8299ca756",
   "metadata": {},
   "outputs": [
    {
     "data": {
      "text/html": [
       "<div>\n",
       "<style scoped>\n",
       "    .dataframe tbody tr th:only-of-type {\n",
       "        vertical-align: middle;\n",
       "    }\n",
       "\n",
       "    .dataframe tbody tr th {\n",
       "        vertical-align: top;\n",
       "    }\n",
       "\n",
       "    .dataframe thead th {\n",
       "        text-align: right;\n",
       "    }\n",
       "</style>\n",
       "<table border=\"1\" class=\"dataframe\">\n",
       "  <thead>\n",
       "    <tr style=\"text-align: right;\">\n",
       "      <th></th>\n",
       "      <th>Crops</th>\n",
       "      <th>Year</th>\n",
       "      <th>Tonnes</th>\n",
       "      <th>US$1000</th>\n",
       "      <th>TempChange</th>\n",
       "      <th>YearR</th>\n",
       "      <th>CropsR</th>\n",
       "    </tr>\n",
       "  </thead>\n",
       "  <tbody>\n",
       "    <tr>\n",
       "      <th>0</th>\n",
       "      <td>Maize</td>\n",
       "      <td>1999</td>\n",
       "      <td>239548580</td>\n",
       "      <td>17247498.0</td>\n",
       "      <td>0.755</td>\n",
       "      <td>1</td>\n",
       "      <td>1</td>\n",
       "    </tr>\n",
       "    <tr>\n",
       "      <th>1</th>\n",
       "      <td>Soybeans</td>\n",
       "      <td>1999</td>\n",
       "      <td>72223460</td>\n",
       "      <td>12277988.0</td>\n",
       "      <td>0.755</td>\n",
       "      <td>1</td>\n",
       "      <td>2</td>\n",
       "    </tr>\n",
       "    <tr>\n",
       "      <th>2</th>\n",
       "      <td>Wheat</td>\n",
       "      <td>1999</td>\n",
       "      <td>62567284</td>\n",
       "      <td>5693623.0</td>\n",
       "      <td>0.755</td>\n",
       "      <td>1</td>\n",
       "      <td>3</td>\n",
       "    </tr>\n",
       "    <tr>\n",
       "      <th>3</th>\n",
       "      <td>Maize</td>\n",
       "      <td>2000</td>\n",
       "      <td>251853900</td>\n",
       "      <td>18385335.0</td>\n",
       "      <td>1.000</td>\n",
       "      <td>2</td>\n",
       "      <td>1</td>\n",
       "    </tr>\n",
       "    <tr>\n",
       "      <th>4</th>\n",
       "      <td>Soybeans</td>\n",
       "      <td>2000</td>\n",
       "      <td>75055290</td>\n",
       "      <td>12534233.0</td>\n",
       "      <td>1.000</td>\n",
       "      <td>2</td>\n",
       "      <td>2</td>\n",
       "    </tr>\n",
       "  </tbody>\n",
       "</table>\n",
       "</div>"
      ],
      "text/plain": [
       "      Crops  Year     Tonnes     US$1000  TempChange  YearR  CropsR\n",
       "0     Maize  1999  239548580  17247498.0       0.755      1       1\n",
       "1  Soybeans  1999   72223460  12277988.0       0.755      1       2\n",
       "2     Wheat  1999   62567284   5693623.0       0.755      1       3\n",
       "3     Maize  2000  251853900  18385335.0       1.000      2       1\n",
       "4  Soybeans  2000   75055290  12534233.0       1.000      2       2"
      ]
     },
     "execution_count": 23,
     "metadata": {},
     "output_type": "execute_result"
    }
   ],
   "source": [
    "Recode_data.head()"
   ]
  },
  {
   "cell_type": "code",
   "execution_count": 24,
   "id": "0e00c3ce-9df7-48e4-a8f9-59c3faa694de",
   "metadata": {},
   "outputs": [
    {
     "data": {
      "text/plain": [
       "Crops          object\n",
       "Year            int64\n",
       "Tonnes          int64\n",
       "US$1000       float64\n",
       "TempChange    float64\n",
       "YearR           int64\n",
       "CropsR          int64\n",
       "dtype: object"
      ]
     },
     "execution_count": 24,
     "metadata": {},
     "output_type": "execute_result"
    }
   ],
   "source": [
    "Recode_data.dtypes"
   ]
  },
  {
   "cell_type": "code",
   "execution_count": 25,
   "id": "210c2dfe-2b77-4fe5-98ee-35f2ba40bd6c",
   "metadata": {},
   "outputs": [],
   "source": [
    "##Recode US$1000"
   ]
  },
  {
   "cell_type": "code",
   "execution_count": 26,
   "id": "ae92cc23-bc82-4fb4-90dd-cb0f62bf54b5",
   "metadata": {},
   "outputs": [],
   "source": [
    "Recode_data['US$1000'] = Recode_data['US$1000'].astype('int64')"
   ]
  },
  {
   "cell_type": "code",
   "execution_count": 27,
   "id": "96fe8c97-83c6-427a-81ae-22ff4207469a",
   "metadata": {},
   "outputs": [
    {
     "data": {
      "text/plain": [
       "Crops          object\n",
       "Year            int64\n",
       "Tonnes          int64\n",
       "US$1000         int64\n",
       "TempChange    float64\n",
       "YearR           int64\n",
       "CropsR          int64\n",
       "dtype: object"
      ]
     },
     "execution_count": 27,
     "metadata": {},
     "output_type": "execute_result"
    }
   ],
   "source": [
    "Recode_data.dtypes"
   ]
  },
  {
   "cell_type": "code",
   "execution_count": 28,
   "id": "12af424f-246a-4478-a490-cd1f56cc675d",
   "metadata": {},
   "outputs": [],
   "source": [
    "Recode_data.to_csv('Recode_data.csv')"
   ]
  },
  {
   "cell_type": "code",
   "execution_count": null,
   "id": "19d2536c-f043-4f65-96d5-45fb109aeec2",
   "metadata": {},
   "outputs": [],
   "source": []
  }
 ],
 "metadata": {
  "kernelspec": {
   "display_name": "Python 3",
   "language": "python",
   "name": "python3"
  },
  "language_info": {
   "codemirror_mode": {
    "name": "ipython",
    "version": 3
   },
   "file_extension": ".py",
   "mimetype": "text/x-python",
   "name": "python",
   "nbconvert_exporter": "python",
   "pygments_lexer": "ipython3",
   "version": "3.8.8"
  }
 },
 "nbformat": 4,
 "nbformat_minor": 5
}
