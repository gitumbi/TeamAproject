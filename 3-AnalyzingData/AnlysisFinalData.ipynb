{
 "cells": [
  {
   "cell_type": "code",
   "execution_count": 1,
   "id": "50dc7b43-41a8-4c9d-93c9-ec63bb1c8e36",
   "metadata": {},
   "outputs": [
    {
     "name": "stdout",
     "output_type": "stream",
     "text": [
      "    Unnamed: 0 CropsM    TonnesM  US$1000M  TempChangeM  YearR  CropsRM  \\\n",
      "0            0  Maize  239548580  17247498        0.755      1        1   \n",
      "1            1  Maize  251853900  18385335        1.000      2        1   \n",
      "2            2  Maize  241376650  18827379        0.784      3        1   \n",
      "3            3  Maize  227766880  20726786        0.953      4        1   \n",
      "4            4  Maize  256229020  24341757        0.992      5        1   \n",
      "5            5  Maize  299875570  24289921        0.866      6        1   \n",
      "6            6  Maize  282262550  22298741        1.157      7        1   \n",
      "7            7  Maize  267502850  32100342        1.028      8        1   \n",
      "8            8  Maize  331177280  54644251        1.147      9        1   \n",
      "9            9  Maize  305911450  48945832        0.215     10        1   \n",
      "10          10  Maize  331921050  46468947        0.399     11        1   \n",
      "11          11  Maize  315617920  64386056        0.694     12        1   \n",
      "12          12  Maize  312788890  76633278        0.539     13        1   \n",
      "13          13  Maize  273192400  74035140        1.451     14        1   \n",
      "14          14  Maize  351271870  61823849        0.618     15        1   \n",
      "15          15  Maize  361091140  52719306        0.504     16        1   \n",
      "16          16  Maize  345486340  49059060        1.534     17        1   \n",
      "17          17  Maize  412262180  54418608        2.229     18        1   \n",
      "18          18  Maize  371096030  48984676        1.437     19        1   \n",
      "19          19  Maize  364262150  51725225        1.278     20        1   \n",
      "20          20  Maize  345962110  52404183        1.040     21        1   \n",
      "\n",
      "     CropsSB   TonnesSB  US$1000SB  ...  CropsRSB  CropsW  Year   TonnesW  \\\n",
      "0   Soybeans   72223460   12277988  ...         2   Wheat  1999  62567284   \n",
      "1   Soybeans   75055290   12534233  ...         2   Wheat  2000  60639376   \n",
      "2   Soybeans   78671470   12666107  ...         2   Wheat  2001  52999932   \n",
      "3   Soybeans   75010030   15227036  ...         2   Wheat  2002  43703968   \n",
      "4   Soybeans   66782720   18031334  ...         2   Wheat  2003  63803256   \n",
      "5   Soybeans   85015630   17938298  ...         2   Wheat  2004  58697040   \n",
      "6   Soybeans   83506580   17369369  ...         2   Wheat  2005  57241992   \n",
      "7   Soybeans   87000620   20532146  ...         2   Wheat  2006  49216040   \n",
      "8   Soybeans   72859180   27030756  ...         2   Wheat  2007  55820360   \n",
      "9   Soybeans   80748700   29554024  ...         2   Wheat  2008  68016096   \n",
      "10  Soybeans   91469550   32197282  ...         2   Wheat  2009  60365728   \n",
      "11  Soybeans   90663290   37625265  ...         2   Wheat  2010  60062408   \n",
      "12  Soybeans   84291400   38689753  ...         2   Wheat  2011  54418808   \n",
      "13  Soybeans   82790870   43796370  ...         2   Wheat  2012  61677384   \n",
      "14  Soybeans   91389350   43684109  ...         2   Wheat  2013  58104610   \n",
      "15  Soybeans  106877870   39651690  ...         2   Wheat  2014  55147120   \n",
      "16  Soybeans  106953940   35187846  ...         2   Wheat  2015  55839540   \n",
      "17  Soybeans  116931500   40692162  ...         2   Wheat  2016  62831507   \n",
      "18  Soybeans  120064970   41062220  ...         2   Wheat  2017  47379810   \n",
      "19  Soybeans  120514490   37480006  ...         2   Wheat  2018  51305540   \n",
      "20  Soybeans   96667090   31070611  ...         2   Wheat  2019  52580890   \n",
      "\n",
      "    US$1000W  TempChangeW  CropsRW         US$1000MCUBE        US$1000SBCUBE  \\\n",
      "0    5693623        0.755        3  2525092323289120744  6219874612124932672   \n",
      "1    5821380        1.000        3 -1931831759186424217 -4585910833490395575   \n",
      "2    5405993        0.784        3 -3976554895542924053  2885073868465649283   \n",
      "3    5725220        0.953        3 -5557212846700154872  7252425108810264000   \n",
      "4    7975407        0.992        3 -2348408171527438619 -3554918419279446184   \n",
      "5    7337130        0.866        3 -2060386789240428671 -1599888591628736216   \n",
      "6    7212491        1.157        3  1195653410482761805  1376106722705811465   \n",
      "7    7726918        1.028        3  2206087762447154200  4193684115715740232   \n",
      "8   13285246        1.147        3  5963433303119701731 -6122881395443459520   \n",
      "9   16936008        0.215        3 -6693016192932652544  6681651997358615040   \n",
      "10  10805465        0.399        3 -6961320385165676917  7634290914160236424   \n",
      "11  12553043        0.694        3 -7857547940140219904  8853817049064969233   \n",
      "12  14475403        0.539        3 -4082658068768974600 -8201690196792513463   \n",
      "13  17639732        1.451        3 -8368784193665256384   309408123529793736   \n",
      "14  14642362        0.618        3  -398955526540571911  1608981404478354325   \n",
      "15  12132366        0.504        3  1608839231447018728 -7366843325362653080   \n",
      "16  10051117        1.534        3 -2686681519422478016 -2163781175336745256   \n",
      "17   8984906        2.229        3  3687600407284494336 -5756306481321257720   \n",
      "18   8196707        1.437        3 -3997494004248829376  4621365635305833152   \n",
      "19   9696747        1.278        3  3308616058564542393  3062691144187528152   \n",
      "20   8727023        1.040        3 -9213970163458911545   629691147447581515   \n",
      "\n",
      "    US$1000WLOG  \n",
      "0     15.554857  \n",
      "1     15.577048  \n",
      "2     15.503019  \n",
      "3     15.560392  \n",
      "4     15.891873  \n",
      "5     15.808458  \n",
      "6     15.791325  \n",
      "7     15.860221  \n",
      "8     16.402165  \n",
      "9     16.644953  \n",
      "10    16.195563  \n",
      "11    16.345474  \n",
      "12    16.487961  \n",
      "13    16.685664  \n",
      "14    16.499429  \n",
      "15    16.311387  \n",
      "16    16.123194  \n",
      "17    16.011057  \n",
      "18    15.919243  \n",
      "19    16.087301  \n",
      "20    15.981935  \n",
      "\n",
      "[21 rows x 21 columns]\n"
     ]
    }
   ],
   "source": [
    "import pandas as pd\n",
    "import numpy as np\n",
    "import matplotlib.pyplot as plt\n",
    "from pylab import *\n",
    "import seaborn as sns\n",
    "%matplotlib inline\n",
    "import  statsmodels.api as sm\n",
    "import statsmodels.stats.api as sms\n",
    "from scipy.stats import boxcox\n",
    "\n",
    "Analyze_data = pd.read_csv (\"Final_data.csv\")\n",
    "print (Analyze_data)"
   ]
  },
  {
   "cell_type": "code",
   "execution_count": 2,
   "id": "8997ab72-d51e-4ea6-b188-50632b7083cf",
   "metadata": {},
   "outputs": [],
   "source": [
    "## Test for Homoscedasticity"
   ]
  },
  {
   "cell_type": "code",
   "execution_count": 3,
   "id": "cec76447-639f-49d3-942b-1fe1a8288f04",
   "metadata": {},
   "outputs": [],
   "source": [
    "## US$1000 Maize"
   ]
  },
  {
   "cell_type": "code",
   "execution_count": 4,
   "id": "59ac8499-3ce0-4c39-8232-53cabe526ac4",
   "metadata": {},
   "outputs": [],
   "source": [
    "x = Analyze_data['TempChangeM']\n",
    "y = Analyze_data['US$1000MCUBE']\n",
    "model = sm.OLS(y,x).fit()"
   ]
  },
  {
   "cell_type": "code",
   "execution_count": 5,
   "id": "567f7024-080e-4b8a-bd09-1672f6806e0c",
   "metadata": {},
   "outputs": [],
   "source": [
    "pred_val = model.fittedvalues.copy()\n",
    "true_val = Analyze_data['US$1000MCUBE'].values.copy()\n",
    "residual = true_val - pred_val"
   ]
  },
  {
   "cell_type": "code",
   "execution_count": 6,
   "id": "bdf43084-da04-45aa-aef0-0716a686e10d",
   "metadata": {},
   "outputs": [
    {
     "data": {
      "image/png": "[encoded data removed]",
      "text/plain": [
       "<Figure size 720x360 with 1 Axes>"
      ]
     },
     "metadata": {
      "needs_background": "light"
     },
     "output_type": "display_data"
    }
   ],
   "source": [
    "fig, ax = plt.subplots(figsize=(10, 5))\n",
    "_ = ax.scatter(residual, pred_val)"
   ]
  },
  {
   "cell_type": "code",
   "execution_count": 8,
   "id": "fc9b3559-14fa-4d3b-bbd1-2d31d778f3f4",
   "metadata": {},
   "outputs": [
    {
     "data": {
      "text/plain": [
       "(9.813021039902354, nan, 17.543647976641413, 0.00045271428148436864)"
      ]
     },
     "execution_count": 8,
     "metadata": {},
     "output_type": "execute_result"
    }
   ],
   "source": [
    "sms.diagnostic.het_breuschpagan(residual, Analyze_data[['TempChangeM']])"
   ]
  },
  {
   "cell_type": "code",
   "execution_count": 9,
   "id": "c1d893ae-12bb-476d-bb5d-2f8a4d0cb569",
   "metadata": {},
   "outputs": [],
   "source": [
    "## Failed"
   ]
  },
  {
   "cell_type": "code",
   "execution_count": 10,
   "id": "7b96dd2f-5537-4982-a46d-1ba8ba0b4b99",
   "metadata": {},
   "outputs": [
    {
     "data": {
      "text/plain": [
       "Ttest_1sampResult(statistic=-0.6041717816266794, pvalue=0.5537075887955573)"
      ]
     },
     "execution_count": 10,
     "metadata": {},
     "output_type": "execute_result"
    }
   ],
   "source": [
    "sms.linear_harvey_collier(model)"
   ]
  },
  {
   "cell_type": "code",
   "execution_count": 14,
   "id": "34bf7fd5-e19c-4296-8f4c-22e8d1e4245f",
   "metadata": {},
   "outputs": [],
   "source": [
    "## Passed"
   ]
  },
  {
   "cell_type": "code",
   "execution_count": 12,
   "id": "845a8dd1-0b9e-4a7f-8d10-0ed4a213571b",
   "metadata": {},
   "outputs": [],
   "source": [
    "#### Testing for outliers"
   ]
  },
  {
   "cell_type": "code",
   "execution_count": 13,
   "id": "c15335ec-5665-4b9c-9558-2fbed7eef979",
   "metadata": {},
   "outputs": [
    {
     "data": {
      "image/png": "[encoded data removed]",
      "text/plain": [
       "<Figure size 864x576 with 1 Axes>"
      ]
     },
     "metadata": {
      "needs_background": "light"
     },
     "output_type": "display_data"
    }
   ],
   "source": [
    "fig, ax = plt.subplots(figsize=(12,8))\n",
    "fig = sm.graphics.influence_plot(model, alpha = .05, ax = ax, criterion=\"cooks\")"
   ]
  },
  {
   "cell_type": "code",
   "execution_count": 15,
   "id": "127304b4-f4ec-43c0-bcf7-17b3176e19cf",
   "metadata": {},
   "outputs": [],
   "source": [
    "#### The scatter plot does not look good. The first test for Homoscedasticity the pvalue is <.05 so we fail the assumption \n",
    "#### of Homoscedasticity, but the Harvey Collier is >.05 so we pass. Also, there are big outliers influencing the data. \n",
    "#### Based on the graph abbove there must be a significant outlier after the H leverage of 0.2. We will test this with a table."
   ]
  },
  {
   "cell_type": "code",
   "execution_count": 16,
   "id": "51d37f6d-a9a6-476e-ad96-0d1cdafd6813",
   "metadata": {},
   "outputs": [
    {
     "data": {
      "text/plain": [
       "<AxesSubplot:>"
      ]
     },
     "execution_count": 16,
     "metadata": {},
     "output_type": "execute_result"
    },
    {
     "data": {
      "image/png": "[encoded data removed]",
      "text/plain": [
       "<Figure size 432x288 with 2 Axes>"
      ]
     },
     "metadata": {
      "needs_background": "light"
     },
     "output_type": "display_data"
    }
   ],
   "source": [
    "sns.heatmap(Analyze_data.corr(), annot=True)"
   ]
  },
  {
   "cell_type": "code",
   "execution_count": 17,
   "id": "18ed7997-5579-4e9a-9116-f4d9b042016f",
   "metadata": {},
   "outputs": [
    {
     "data": {
      "text/html": [
       "<div>\n",
       "<style scoped>\n",
       "    .dataframe tbody tr th:only-of-type {\n",
       "        vertical-align: middle;\n",
       "    }\n",
       "\n",
       "    .dataframe tbody tr th {\n",
       "        vertical-align: top;\n",
       "    }\n",
       "\n",
       "    .dataframe thead th {\n",
       "        text-align: right;\n",
       "    }\n",
       "</style>\n",
       "<table border=\"1\" class=\"dataframe\">\n",
       "  <thead>\n",
       "    <tr style=\"text-align: right;\">\n",
       "      <th></th>\n",
       "      <th>Unnamed: 0</th>\n",
       "      <th>TonnesM</th>\n",
       "      <th>US$1000M</th>\n",
       "      <th>TempChangeM</th>\n",
       "      <th>YearR</th>\n",
       "      <th>CropsRM</th>\n",
       "      <th>TonnesSB</th>\n",
       "      <th>US$1000SB</th>\n",
       "      <th>TempChangeSB</th>\n",
       "      <th>CropsRSB</th>\n",
       "      <th>Year</th>\n",
       "      <th>TonnesW</th>\n",
       "      <th>US$1000W</th>\n",
       "      <th>TempChangeW</th>\n",
       "      <th>CropsRW</th>\n",
       "      <th>US$1000MCUBE</th>\n",
       "      <th>US$1000SBCUBE</th>\n",
       "      <th>US$1000WLOG</th>\n",
       "    </tr>\n",
       "  </thead>\n",
       "  <tbody>\n",
       "    <tr>\n",
       "      <th>Unnamed: 0</th>\n",
       "      <td>1.000000</td>\n",
       "      <td>0.873690</td>\n",
       "      <td>0.751696</td>\n",
       "      <td>0.343478</td>\n",
       "      <td>1.000000</td>\n",
       "      <td>NaN</td>\n",
       "      <td>0.843573</td>\n",
       "      <td>0.876243</td>\n",
       "      <td>0.343478</td>\n",
       "      <td>NaN</td>\n",
       "      <td>1.000000</td>\n",
       "      <td>-0.177308</td>\n",
       "      <td>0.443025</td>\n",
       "      <td>0.343478</td>\n",
       "      <td>NaN</td>\n",
       "      <td>-0.089334</td>\n",
       "      <td>-0.149020</td>\n",
       "      <td>0.538317</td>\n",
       "    </tr>\n",
       "    <tr>\n",
       "      <th>TonnesM</th>\n",
       "      <td>0.873690</td>\n",
       "      <td>1.000000</td>\n",
       "      <td>0.633998</td>\n",
       "      <td>0.329867</td>\n",
       "      <td>0.873690</td>\n",
       "      <td>NaN</td>\n",
       "      <td>0.839477</td>\n",
       "      <td>0.792811</td>\n",
       "      <td>0.329867</td>\n",
       "      <td>NaN</td>\n",
       "      <td>0.873690</td>\n",
       "      <td>-0.001255</td>\n",
       "      <td>0.358569</td>\n",
       "      <td>0.329867</td>\n",
       "      <td>NaN</td>\n",
       "      <td>0.188555</td>\n",
       "      <td>-0.268214</td>\n",
       "      <td>0.474260</td>\n",
       "    </tr>\n",
       "    <tr>\n",
       "      <th>US$1000M</th>\n",
       "      <td>0.751696</td>\n",
       "      <td>0.633998</td>\n",
       "      <td>1.000000</td>\n",
       "      <td>0.055260</td>\n",
       "      <td>0.751696</td>\n",
       "      <td>NaN</td>\n",
       "      <td>0.426653</td>\n",
       "      <td>0.922645</td>\n",
       "      <td>0.055260</td>\n",
       "      <td>NaN</td>\n",
       "      <td>0.751696</td>\n",
       "      <td>0.082317</td>\n",
       "      <td>0.844458</td>\n",
       "      <td>0.055260</td>\n",
       "      <td>NaN</td>\n",
       "      <td>-0.208587</td>\n",
       "      <td>-0.204465</td>\n",
       "      <td>0.883740</td>\n",
       "    </tr>\n",
       "    <tr>\n",
       "      <th>TempChangeM</th>\n",
       "      <td>0.343478</td>\n",
       "      <td>0.329867</td>\n",
       "      <td>0.055260</td>\n",
       "      <td>1.000000</td>\n",
       "      <td>0.343478</td>\n",
       "      <td>NaN</td>\n",
       "      <td>0.449014</td>\n",
       "      <td>0.185411</td>\n",
       "      <td>1.000000</td>\n",
       "      <td>NaN</td>\n",
       "      <td>0.343478</td>\n",
       "      <td>-0.145539</td>\n",
       "      <td>-0.228002</td>\n",
       "      <td>1.000000</td>\n",
       "      <td>NaN</td>\n",
       "      <td>0.308693</td>\n",
       "      <td>-0.281301</td>\n",
       "      <td>-0.185244</td>\n",
       "    </tr>\n",
       "    <tr>\n",
       "      <th>YearR</th>\n",
       "      <td>1.000000</td>\n",
       "      <td>0.873690</td>\n",
       "      <td>0.751696</td>\n",
       "      <td>0.343478</td>\n",
       "      <td>1.000000</td>\n",
       "      <td>NaN</td>\n",
       "      <td>0.843573</td>\n",
       "      <td>0.876243</td>\n",
       "      <td>0.343478</td>\n",
       "      <td>NaN</td>\n",
       "      <td>1.000000</td>\n",
       "      <td>-0.177308</td>\n",
       "      <td>0.443025</td>\n",
       "      <td>0.343478</td>\n",
       "      <td>NaN</td>\n",
       "      <td>-0.089334</td>\n",
       "      <td>-0.149020</td>\n",
       "      <td>0.538317</td>\n",
       "    </tr>\n",
       "    <tr>\n",
       "      <th>CropsRM</th>\n",
       "      <td>NaN</td>\n",
       "      <td>NaN</td>\n",
       "      <td>NaN</td>\n",
       "      <td>NaN</td>\n",
       "      <td>NaN</td>\n",
       "      <td>NaN</td>\n",
       "      <td>NaN</td>\n",
       "      <td>NaN</td>\n",
       "      <td>NaN</td>\n",
       "      <td>NaN</td>\n",
       "      <td>NaN</td>\n",
       "      <td>NaN</td>\n",
       "      <td>NaN</td>\n",
       "      <td>NaN</td>\n",
       "      <td>NaN</td>\n",
       "      <td>NaN</td>\n",
       "      <td>NaN</td>\n",
       "      <td>NaN</td>\n",
       "    </tr>\n",
       "    <tr>\n",
       "      <th>TonnesSB</th>\n",
       "      <td>0.843573</td>\n",
       "      <td>0.839477</td>\n",
       "      <td>0.426653</td>\n",
       "      <td>0.449014</td>\n",
       "      <td>0.843573</td>\n",
       "      <td>NaN</td>\n",
       "      <td>1.000000</td>\n",
       "      <td>0.678921</td>\n",
       "      <td>0.449014</td>\n",
       "      <td>NaN</td>\n",
       "      <td>0.843573</td>\n",
       "      <td>-0.280131</td>\n",
       "      <td>0.072390</td>\n",
       "      <td>0.449014</td>\n",
       "      <td>NaN</td>\n",
       "      <td>0.127974</td>\n",
       "      <td>-0.049314</td>\n",
       "      <td>0.173257</td>\n",
       "    </tr>\n",
       "    <tr>\n",
       "      <th>US$1000SB</th>\n",
       "      <td>0.876243</td>\n",
       "      <td>0.792811</td>\n",
       "      <td>0.922645</td>\n",
       "      <td>0.185411</td>\n",
       "      <td>0.876243</td>\n",
       "      <td>NaN</td>\n",
       "      <td>0.678921</td>\n",
       "      <td>1.000000</td>\n",
       "      <td>0.185411</td>\n",
       "      <td>NaN</td>\n",
       "      <td>0.876243</td>\n",
       "      <td>0.028155</td>\n",
       "      <td>0.721259</td>\n",
       "      <td>0.185411</td>\n",
       "      <td>NaN</td>\n",
       "      <td>-0.133654</td>\n",
       "      <td>-0.148336</td>\n",
       "      <td>0.783010</td>\n",
       "    </tr>\n",
       "    <tr>\n",
       "      <th>TempChangeSB</th>\n",
       "      <td>0.343478</td>\n",
       "      <td>0.329867</td>\n",
       "      <td>0.055260</td>\n",
       "      <td>1.000000</td>\n",
       "      <td>0.343478</td>\n",
       "      <td>NaN</td>\n",
       "      <td>0.449014</td>\n",
       "      <td>0.185411</td>\n",
       "      <td>1.000000</td>\n",
       "      <td>NaN</td>\n",
       "      <td>0.343478</td>\n",
       "      <td>-0.145539</td>\n",
       "      <td>-0.228002</td>\n",
       "      <td>1.000000</td>\n",
       "      <td>NaN</td>\n",
       "      <td>0.308693</td>\n",
       "      <td>-0.281301</td>\n",
       "      <td>-0.185244</td>\n",
       "    </tr>\n",
       "    <tr>\n",
       "      <th>CropsRSB</th>\n",
       "      <td>NaN</td>\n",
       "      <td>NaN</td>\n",
       "      <td>NaN</td>\n",
       "      <td>NaN</td>\n",
       "      <td>NaN</td>\n",
       "      <td>NaN</td>\n",
       "      <td>NaN</td>\n",
       "      <td>NaN</td>\n",
       "      <td>NaN</td>\n",
       "      <td>NaN</td>\n",
       "      <td>NaN</td>\n",
       "      <td>NaN</td>\n",
       "      <td>NaN</td>\n",
       "      <td>NaN</td>\n",
       "      <td>NaN</td>\n",
       "      <td>NaN</td>\n",
       "      <td>NaN</td>\n",
       "      <td>NaN</td>\n",
       "    </tr>\n",
       "    <tr>\n",
       "      <th>Year</th>\n",
       "      <td>1.000000</td>\n",
       "      <td>0.873690</td>\n",
       "      <td>0.751696</td>\n",
       "      <td>0.343478</td>\n",
       "      <td>1.000000</td>\n",
       "      <td>NaN</td>\n",
       "      <td>0.843573</td>\n",
       "      <td>0.876243</td>\n",
       "      <td>0.343478</td>\n",
       "      <td>NaN</td>\n",
       "      <td>1.000000</td>\n",
       "      <td>-0.177308</td>\n",
       "      <td>0.443025</td>\n",
       "      <td>0.343478</td>\n",
       "      <td>NaN</td>\n",
       "      <td>-0.089334</td>\n",
       "      <td>-0.149020</td>\n",
       "      <td>0.538317</td>\n",
       "    </tr>\n",
       "    <tr>\n",
       "      <th>TonnesW</th>\n",
       "      <td>-0.177308</td>\n",
       "      <td>-0.001255</td>\n",
       "      <td>0.082317</td>\n",
       "      <td>-0.145539</td>\n",
       "      <td>-0.177308</td>\n",
       "      <td>NaN</td>\n",
       "      <td>-0.280131</td>\n",
       "      <td>0.028155</td>\n",
       "      <td>-0.145539</td>\n",
       "      <td>NaN</td>\n",
       "      <td>-0.177308</td>\n",
       "      <td>1.000000</td>\n",
       "      <td>0.368215</td>\n",
       "      <td>-0.145539</td>\n",
       "      <td>NaN</td>\n",
       "      <td>-0.047650</td>\n",
       "      <td>-0.111804</td>\n",
       "      <td>0.337150</td>\n",
       "    </tr>\n",
       "    <tr>\n",
       "      <th>US$1000W</th>\n",
       "      <td>0.443025</td>\n",
       "      <td>0.358569</td>\n",
       "      <td>0.844458</td>\n",
       "      <td>-0.228002</td>\n",
       "      <td>0.443025</td>\n",
       "      <td>NaN</td>\n",
       "      <td>0.072390</td>\n",
       "      <td>0.721259</td>\n",
       "      <td>-0.228002</td>\n",
       "      <td>NaN</td>\n",
       "      <td>0.443025</td>\n",
       "      <td>0.368215</td>\n",
       "      <td>1.000000</td>\n",
       "      <td>-0.228002</td>\n",
       "      <td>NaN</td>\n",
       "      <td>-0.231915</td>\n",
       "      <td>-0.118790</td>\n",
       "      <td>0.985947</td>\n",
       "    </tr>\n",
       "    <tr>\n",
       "      <th>TempChangeW</th>\n",
       "      <td>0.343478</td>\n",
       "      <td>0.329867</td>\n",
       "      <td>0.055260</td>\n",
       "      <td>1.000000</td>\n",
       "      <td>0.343478</td>\n",
       "      <td>NaN</td>\n",
       "      <td>0.449014</td>\n",
       "      <td>0.185411</td>\n",
       "      <td>1.000000</td>\n",
       "      <td>NaN</td>\n",
       "      <td>0.343478</td>\n",
       "      <td>-0.145539</td>\n",
       "      <td>-0.228002</td>\n",
       "      <td>1.000000</td>\n",
       "      <td>NaN</td>\n",
       "      <td>0.308693</td>\n",
       "      <td>-0.281301</td>\n",
       "      <td>-0.185244</td>\n",
       "    </tr>\n",
       "    <tr>\n",
       "      <th>CropsRW</th>\n",
       "      <td>NaN</td>\n",
       "      <td>NaN</td>\n",
       "      <td>NaN</td>\n",
       "      <td>NaN</td>\n",
       "      <td>NaN</td>\n",
       "      <td>NaN</td>\n",
       "      <td>NaN</td>\n",
       "      <td>NaN</td>\n",
       "      <td>NaN</td>\n",
       "      <td>NaN</td>\n",
       "      <td>NaN</td>\n",
       "      <td>NaN</td>\n",
       "      <td>NaN</td>\n",
       "      <td>NaN</td>\n",
       "      <td>NaN</td>\n",
       "      <td>NaN</td>\n",
       "      <td>NaN</td>\n",
       "      <td>NaN</td>\n",
       "    </tr>\n",
       "    <tr>\n",
       "      <th>US$1000MCUBE</th>\n",
       "      <td>-0.089334</td>\n",
       "      <td>0.188555</td>\n",
       "      <td>-0.208587</td>\n",
       "      <td>0.308693</td>\n",
       "      <td>-0.089334</td>\n",
       "      <td>NaN</td>\n",
       "      <td>0.127974</td>\n",
       "      <td>-0.133654</td>\n",
       "      <td>0.308693</td>\n",
       "      <td>NaN</td>\n",
       "      <td>-0.089334</td>\n",
       "      <td>-0.047650</td>\n",
       "      <td>-0.231915</td>\n",
       "      <td>0.308693</td>\n",
       "      <td>NaN</td>\n",
       "      <td>1.000000</td>\n",
       "      <td>-0.399585</td>\n",
       "      <td>-0.187631</td>\n",
       "    </tr>\n",
       "    <tr>\n",
       "      <th>US$1000SBCUBE</th>\n",
       "      <td>-0.149020</td>\n",
       "      <td>-0.268214</td>\n",
       "      <td>-0.204465</td>\n",
       "      <td>-0.281301</td>\n",
       "      <td>-0.149020</td>\n",
       "      <td>NaN</td>\n",
       "      <td>-0.049314</td>\n",
       "      <td>-0.148336</td>\n",
       "      <td>-0.281301</td>\n",
       "      <td>NaN</td>\n",
       "      <td>-0.149020</td>\n",
       "      <td>-0.111804</td>\n",
       "      <td>-0.118790</td>\n",
       "      <td>-0.281301</td>\n",
       "      <td>NaN</td>\n",
       "      <td>-0.399585</td>\n",
       "      <td>1.000000</td>\n",
       "      <td>-0.153316</td>\n",
       "    </tr>\n",
       "    <tr>\n",
       "      <th>US$1000WLOG</th>\n",
       "      <td>0.538317</td>\n",
       "      <td>0.474260</td>\n",
       "      <td>0.883740</td>\n",
       "      <td>-0.185244</td>\n",
       "      <td>0.538317</td>\n",
       "      <td>NaN</td>\n",
       "      <td>0.173257</td>\n",
       "      <td>0.783010</td>\n",
       "      <td>-0.185244</td>\n",
       "      <td>NaN</td>\n",
       "      <td>0.538317</td>\n",
       "      <td>0.337150</td>\n",
       "      <td>0.985947</td>\n",
       "      <td>-0.185244</td>\n",
       "      <td>NaN</td>\n",
       "      <td>-0.187631</td>\n",
       "      <td>-0.153316</td>\n",
       "      <td>1.000000</td>\n",
       "    </tr>\n",
       "  </tbody>\n",
       "</table>\n",
       "</div>"
      ],
      "text/plain": [
       "               Unnamed: 0   TonnesM  US$1000M  TempChangeM     YearR  CropsRM  \\\n",
       "Unnamed: 0       1.000000  0.873690  0.751696     0.343478  1.000000      NaN   \n",
       "TonnesM          0.873690  1.000000  0.633998     0.329867  0.873690      NaN   \n",
       "US$1000M         0.751696  0.633998  1.000000     0.055260  0.751696      NaN   \n",
       "TempChangeM      0.343478  0.329867  0.055260     1.000000  0.343478      NaN   \n",
       "YearR            1.000000  0.873690  0.751696     0.343478  1.000000      NaN   \n",
       "CropsRM               NaN       NaN       NaN          NaN       NaN      NaN   \n",
       "TonnesSB         0.843573  0.839477  0.426653     0.449014  0.843573      NaN   \n",
       "US$1000SB        0.876243  0.792811  0.922645     0.185411  0.876243      NaN   \n",
       "TempChangeSB     0.343478  0.329867  0.055260     1.000000  0.343478      NaN   \n",
       "CropsRSB              NaN       NaN       NaN          NaN       NaN      NaN   \n",
       "Year             1.000000  0.873690  0.751696     0.343478  1.000000      NaN   \n",
       "TonnesW         -0.177308 -0.001255  0.082317    -0.145539 -0.177308      NaN   \n",
       "US$1000W         0.443025  0.358569  0.844458    -0.228002  0.443025      NaN   \n",
       "TempChangeW      0.343478  0.329867  0.055260     1.000000  0.343478      NaN   \n",
       "CropsRW               NaN       NaN       NaN          NaN       NaN      NaN   \n",
       "US$1000MCUBE    -0.089334  0.188555 -0.208587     0.308693 -0.089334      NaN   \n",
       "US$1000SBCUBE   -0.149020 -0.268214 -0.204465    -0.281301 -0.149020      NaN   \n",
       "US$1000WLOG      0.538317  0.474260  0.883740    -0.185244  0.538317      NaN   \n",
       "\n",
       "               TonnesSB  US$1000SB  TempChangeSB  CropsRSB      Year  \\\n",
       "Unnamed: 0     0.843573   0.876243      0.343478       NaN  1.000000   \n",
       "TonnesM        0.839477   0.792811      0.329867       NaN  0.873690   \n",
       "US$1000M       0.426653   0.922645      0.055260       NaN  0.751696   \n",
       "TempChangeM    0.449014   0.185411      1.000000       NaN  0.343478   \n",
       "YearR          0.843573   0.876243      0.343478       NaN  1.000000   \n",
       "CropsRM             NaN        NaN           NaN       NaN       NaN   \n",
       "TonnesSB       1.000000   0.678921      0.449014       NaN  0.843573   \n",
       "US$1000SB      0.678921   1.000000      0.185411       NaN  0.876243   \n",
       "TempChangeSB   0.449014   0.185411      1.000000       NaN  0.343478   \n",
       "CropsRSB            NaN        NaN           NaN       NaN       NaN   \n",
       "Year           0.843573   0.876243      0.343478       NaN  1.000000   \n",
       "TonnesW       -0.280131   0.028155     -0.145539       NaN -0.177308   \n",
       "US$1000W       0.072390   0.721259     -0.228002       NaN  0.443025   \n",
       "TempChangeW    0.449014   0.185411      1.000000       NaN  0.343478   \n",
       "CropsRW             NaN        NaN           NaN       NaN       NaN   \n",
       "US$1000MCUBE   0.127974  -0.133654      0.308693       NaN -0.089334   \n",
       "US$1000SBCUBE -0.049314  -0.148336     -0.281301       NaN -0.149020   \n",
       "US$1000WLOG    0.173257   0.783010     -0.185244       NaN  0.538317   \n",
       "\n",
       "                TonnesW  US$1000W  TempChangeW  CropsRW  US$1000MCUBE  \\\n",
       "Unnamed: 0    -0.177308  0.443025     0.343478      NaN     -0.089334   \n",
       "TonnesM       -0.001255  0.358569     0.329867      NaN      0.188555   \n",
       "US$1000M       0.082317  0.844458     0.055260      NaN     -0.208587   \n",
       "TempChangeM   -0.145539 -0.228002     1.000000      NaN      0.308693   \n",
       "YearR         -0.177308  0.443025     0.343478      NaN     -0.089334   \n",
       "CropsRM             NaN       NaN          NaN      NaN           NaN   \n",
       "TonnesSB      -0.280131  0.072390     0.449014      NaN      0.127974   \n",
       "US$1000SB      0.028155  0.721259     0.185411      NaN     -0.133654   \n",
       "TempChangeSB  -0.145539 -0.228002     1.000000      NaN      0.308693   \n",
       "CropsRSB            NaN       NaN          NaN      NaN           NaN   \n",
       "Year          -0.177308  0.443025     0.343478      NaN     -0.089334   \n",
       "TonnesW        1.000000  0.368215    -0.145539      NaN     -0.047650   \n",
       "US$1000W       0.368215  1.000000    -0.228002      NaN     -0.231915   \n",
       "TempChangeW   -0.145539 -0.228002     1.000000      NaN      0.308693   \n",
       "CropsRW             NaN       NaN          NaN      NaN           NaN   \n",
       "US$1000MCUBE  -0.047650 -0.231915     0.308693      NaN      1.000000   \n",
       "US$1000SBCUBE -0.111804 -0.118790    -0.281301      NaN     -0.399585   \n",
       "US$1000WLOG    0.337150  0.985947    -0.185244      NaN     -0.187631   \n",
       "\n",
       "               US$1000SBCUBE  US$1000WLOG  \n",
       "Unnamed: 0         -0.149020     0.538317  \n",
       "TonnesM            -0.268214     0.474260  \n",
       "US$1000M           -0.204465     0.883740  \n",
       "TempChangeM        -0.281301    -0.185244  \n",
       "YearR              -0.149020     0.538317  \n",
       "CropsRM                  NaN          NaN  \n",
       "TonnesSB           -0.049314     0.173257  \n",
       "US$1000SB          -0.148336     0.783010  \n",
       "TempChangeSB       -0.281301    -0.185244  \n",
       "CropsRSB                 NaN          NaN  \n",
       "Year               -0.149020     0.538317  \n",
       "TonnesW            -0.111804     0.337150  \n",
       "US$1000W           -0.118790     0.985947  \n",
       "TempChangeW        -0.281301    -0.185244  \n",
       "CropsRW                  NaN          NaN  \n",
       "US$1000MCUBE       -0.399585    -0.187631  \n",
       "US$1000SBCUBE       1.000000    -0.153316  \n",
       "US$1000WLOG        -0.153316     1.000000  "
      ]
     },
     "execution_count": 17,
     "metadata": {},
     "output_type": "execute_result"
    }
   ],
   "source": [
    "Analyze_data.corr()"
   ]
  },
  {
   "cell_type": "code",
   "execution_count": 18,
   "id": "4fa920f0-3257-436a-9430-de4612c839d6",
   "metadata": {},
   "outputs": [
    {
     "name": "stdout",
     "output_type": "stream",
     "text": [
      "    dfb_TempChangeM   cooks_d  standard_resid  hat_diag  dffits_internal  \\\n",
      "0          0.116413  0.013853        0.760333  0.023402         0.117698   \n",
      "1         -0.026166  0.000720       -0.129694  0.041054        -0.026835   \n",
      "2         -0.099990  0.010315       -0.631226  0.025234        -0.101561   \n",
      "3         -0.182150  0.033418       -0.928906  0.037285        -0.182807   \n",
      "4         -0.044536  0.002083       -0.222415  0.040399        -0.045636   \n",
      "5         -0.033980  0.001213       -0.195417  0.030788        -0.034830   \n",
      "6          0.142179  0.020896        0.599449  0.054957         0.144556   \n",
      "7          0.164011  0.027458        0.778099  0.043385         0.165705   \n",
      "8          0.410210  0.153342        1.638830  0.054011         0.391589   \n",
      "9         -0.060860  0.003536       -1.363790  0.001898        -0.059467   \n",
      "10        -0.113944  0.012381       -1.371818  0.006536        -0.111268   \n",
      "11        -0.218596  0.044723       -1.488997  0.019773        -0.211478   \n",
      "12        -0.078080  0.006251       -0.719631  0.011927        -0.079064   \n",
      "13        -0.452931  0.193824       -1.431298  0.086435        -0.440255   \n",
      "14         0.011234  0.000133        0.091300  0.015679         0.011523   \n",
      "15         0.049101  0.002508        0.487805  0.010428         0.050076   \n",
      "16        -0.045617  0.002188       -0.143048  0.096606        -0.046778   \n",
      "17         0.838277  0.646395        1.588278  0.203973         0.803987   \n",
      "18        -0.137883  0.019798       -0.462325  0.084775        -0.140707   \n",
      "19         0.297734  0.087623        1.104157  0.067052         0.296012   \n",
      "20        -0.386885  0.134718       -1.702710  0.044404        -0.367040   \n",
      "\n",
      "    student_resid    dffits  \n",
      "0        0.752030  0.116413  \n",
      "1       -0.126464 -0.026166  \n",
      "2       -0.621464 -0.099990  \n",
      "3       -0.925571 -0.182150  \n",
      "4       -0.217052 -0.044536  \n",
      "5       -0.190651 -0.033980  \n",
      "6        0.589592  0.142179  \n",
      "7        0.770144  0.164011  \n",
      "8        1.716758  0.410210  \n",
      "9       -1.395741 -0.060860  \n",
      "10      -1.404808 -0.113944  \n",
      "11      -1.539109 -0.218596  \n",
      "12      -0.710671 -0.078080  \n",
      "13      -1.472509 -0.452931  \n",
      "14       0.089007  0.011234  \n",
      "15       0.478307  0.049101  \n",
      "16      -0.139498 -0.045617  \n",
      "17       1.656019  0.838277  \n",
      "18      -0.453046 -0.137883  \n",
      "19       1.110581  0.297734  \n",
      "20      -1.794773 -0.386885  \n"
     ]
    }
   ],
   "source": [
    "infl = model.get_influence()\n",
    "print(infl.summary_frame())"
   ]
  },
  {
   "cell_type": "code",
   "execution_count": 19,
   "id": "64a0b00c-124b-40c4-8e40-3debd71b2ca9",
   "metadata": {},
   "outputs": [],
   "source": [
    "##### The DFBETAS value is shown in the dfb_TempChangeM column, and if any value is greater than 1, then there is a problem \n",
    "#### with an influential value.\n",
    "\n",
    "#### The DFFITS value is shown in the dffits column, and like DFBETAS, if you have a value greater than 1, this indicates \n",
    "#### a problem.\n",
    "\n",
    "#### Leverage values are shown in the hat_diag column, and if a value is in the .2 - .5 range, there may have a moderate \n",
    "#### outlier problem, and if it is over .5, then you have a large outlier problem.\n",
    "\n",
    "#### Studentized deleted residuals are shown in the student_resid column, and if you have a value over 2.5 or 3, there is \n",
    "#### probably have an outlier problem."
   ]
  },
  {
   "cell_type": "code",
   "execution_count": 20,
   "id": "af7d9789-0bbc-4fc3-a753-5b5c3ae376a3",
   "metadata": {},
   "outputs": [
    {
     "data": {
      "text/html": [
       "<table class=\"simpletable\">\n",
       "<caption>OLS Regression Results</caption>\n",
       "<tr>\n",
       "  <th>Dep. Variable:</th>      <td>US$1000MCUBE</td>   <th>  R-squared (uncentered):</th>      <td>-357005649400906842112.000</td>\n",
       "</tr>\n",
       "<tr>\n",
       "  <th>Model:</th>                   <td>OLS</td>       <th>  Adj. R-squared (uncentered):</th> <td>-374855931870952226816.000</td>\n",
       "</tr>\n",
       "<tr>\n",
       "  <th>Method:</th>             <td>Least Squares</td>  <th>  F-statistic:       </th>                   <td>  -20.00</td>         \n",
       "</tr>\n",
       "<tr>\n",
       "  <th>Date:</th>             <td>Mon, 04 Apr 2022</td> <th>  Prob (F-statistic):</th>                    <td>  1.00</td>          \n",
       "</tr>\n",
       "<tr>\n",
       "  <th>Time:</th>                 <td>01:13:55</td>     <th>  Log-Likelihood:    </th>                   <td> -932.17</td>         \n",
       "</tr>\n",
       "<tr>\n",
       "  <th>No. Observations:</th>      <td>    21</td>      <th>  AIC:               </th>                   <td>   1866.</td>         \n",
       "</tr>\n",
       "<tr>\n",
       "  <th>Df Residuals:</th>          <td>    20</td>      <th>  BIC:               </th>                   <td>   1867.</td>         \n",
       "</tr>\n",
       "<tr>\n",
       "  <th>Df Model:</th>              <td>     1</td>      <th>                     </th>                       <td> </td>            \n",
       "</tr>\n",
       "<tr>\n",
       "  <th>Covariance Type:</th>      <td>nonrobust</td>    <th>                     </th>                       <td> </td>            \n",
       "</tr>\n",
       "</table>\n",
       "<table class=\"simpletable\">\n",
       "<tr>\n",
       "       <td></td>          <th>coef</th>     <th>std err</th>      <th>t</th>      <th>P>|t|</th>  <th>[0.025</th>    <th>0.975]</th>  \n",
       "</tr>\n",
       "<tr>\n",
       "  <th>TempChangeM</th> <td>-1.335e+18</td> <td> 9.53e+17</td> <td>   -1.401</td> <td> 0.177</td> <td>-3.32e+18</td> <td> 6.52e+17</td>\n",
       "</tr>\n",
       "</table>\n",
       "<table class=\"simpletable\">\n",
       "<tr>\n",
       "  <th>Omnibus:</th>       <td> 1.692</td> <th>  Durbin-Watson:     </th> <td>   1.547</td>\n",
       "</tr>\n",
       "<tr>\n",
       "  <th>Prob(Omnibus):</th> <td> 0.429</td> <th>  Jarque-Bera (JB):  </th> <td>   1.023</td>\n",
       "</tr>\n",
       "<tr>\n",
       "  <th>Skew:</th>          <td> 0.168</td> <th>  Prob(JB):          </th> <td>   0.599</td>\n",
       "</tr>\n",
       "<tr>\n",
       "  <th>Kurtosis:</th>      <td> 1.972</td> <th>  Cond. No.          </th> <td>    1.00</td>\n",
       "</tr>\n",
       "</table><br/><br/>Notes:<br/>[1] R² is computed without centering (uncentered) since the model does not contain a constant.<br/>[2] Standard Errors assume that the covariance matrix of the errors is correctly specified."
      ],
      "text/plain": [
       "<class 'statsmodels.iolib.summary.Summary'>\n",
       "\"\"\"\n",
       "                                     OLS Regression Results                                    \n",
       "===============================================================================================\n",
       "Dep. Variable:           US$1000MCUBE   R-squared (uncentered):      -357005649400906842112.000\n",
       "Model:                            OLS   Adj. R-squared (uncentered): -374855931870952226816.000\n",
       "Method:                 Least Squares   F-statistic:                                     -20.00\n",
       "Date:                Mon, 04 Apr 2022   Prob (F-statistic):                                1.00\n",
       "Time:                        01:13:55   Log-Likelihood:                                 -932.17\n",
       "No. Observations:                  21   AIC:                                              1866.\n",
       "Df Residuals:                      20   BIC:                                              1867.\n",
       "Df Model:                           1                                                          \n",
       "Covariance Type:            nonrobust                                                          \n",
       "===============================================================================\n",
       "                  coef    std err          t      P>|t|      [0.025      0.975]\n",
       "-------------------------------------------------------------------------------\n",
       "TempChangeM -1.335e+18   9.53e+17     -1.401      0.177   -3.32e+18    6.52e+17\n",
       "==============================================================================\n",
       "Omnibus:                        1.692   Durbin-Watson:                   1.547\n",
       "Prob(Omnibus):                  0.429   Jarque-Bera (JB):                1.023\n",
       "Skew:                           0.168   Prob(JB):                        0.599\n",
       "Kurtosis:                       1.972   Cond. No.                         1.00\n",
       "==============================================================================\n",
       "\n",
       "Notes:\n",
       "[1] R² is computed without centering (uncentered) since the model does not contain a constant.\n",
       "[2] Standard Errors assume that the covariance matrix of the errors is correctly specified.\n",
       "\"\"\""
      ]
     },
     "execution_count": 20,
     "metadata": {},
     "output_type": "execute_result"
    }
   ],
   "source": [
    "model.summary()"
   ]
  },
  {
   "cell_type": "code",
   "execution_count": 21,
   "id": "42d5f7c9-6766-48ec-863b-96a5ad302e27",
   "metadata": {},
   "outputs": [],
   "source": [
    "#### Omnibus: This is a test of skew and kurtosis of the residual. You want a value close to zero, which would indicate \n",
    "#### normality. Omnibus: 1.692 failed\n",
    "#### Prob(Omnibus): This is a test indicating the probabilty that residulas are normally distributed. You would like to \n",
    "#### see a value close to zero here, to inidcate a normal distribution. 0.429 Pass\n",
    "#### Skew: Again, you would like to see a value close to zero, and this result feeds into the Omnibus test discussed above. \n",
    "#### Pass\n",
    "#### Kurtosis: If you have a value close to zero, this means our data is relatively normal. Failed\n",
    "#### Durbin-Watson: This also tests for homoscedasticity! You would like a value between 1 and 2, otherwise you have the \n",
    "#### presence of heteroscedasticity within your data. Failed\n",
    "#### Jarque-Bera (JB): This also tests skew and kurtosis. It should also be close to zero. Failed\n",
    "#### Prob (JB): The probabilty that JB is normal. You would like this to be close to zero as well. Failed\n",
    "#### bCondition Number: You would like to see a condition number below 30 or so, becasue that indicates low \n",
    "#### multicollinearity. If you have higher than 30, it's time to suspect related variables! Pass"
   ]
  },
  {
   "cell_type": "code",
   "execution_count": 22,
   "id": "bab162c8-463d-4c5e-b4fe-485162012fca",
   "metadata": {},
   "outputs": [],
   "source": [
    "## Tonnes Maize"
   ]
  },
  {
   "cell_type": "code",
   "execution_count": 23,
   "id": "5f53ab14-02fe-492e-92e8-4d2a3ebac408",
   "metadata": {},
   "outputs": [],
   "source": [
    "x = Analyze_data['TempChangeM']\n",
    "y = Analyze_data['TonnesM']\n",
    "model = sm.OLS(y,x).fit()"
   ]
  },
  {
   "cell_type": "code",
   "execution_count": 25,
   "id": "79b24ae6-20fa-47b2-9909-9a3c87fd4dc3",
   "metadata": {},
   "outputs": [],
   "source": [
    "pred_val = model.fittedvalues.copy()\n",
    "true_val = Analyze_data['TonnesM'].values.copy()\n",
    "residual = true_val - pred_val"
   ]
  },
  {
   "cell_type": "code",
   "execution_count": 26,
   "id": "fa813c29-7dee-428f-992a-e170f665c3ef",
   "metadata": {},
   "outputs": [
    {
     "data": {
      "image/png": "[encoded data removed]",
      "text/plain": [
       "<Figure size 720x360 with 1 Axes>"
      ]
     },
     "metadata": {
      "needs_background": "light"
     },
     "output_type": "display_data"
    }
   ],
   "source": [
    "fig, ax = plt.subplots(figsize=(10, 5))\n",
    "_ = ax.scatter(residual, pred_val)"
   ]
  },
  {
   "cell_type": "code",
   "execution_count": 28,
   "id": "a2f14b2f-37b4-43f8-9cbc-26959a8d8863",
   "metadata": {},
   "outputs": [
    {
     "data": {
      "text/plain": [
       "(3.40048033689438, nan, 3.864287664649057, 0.06336210182142255)"
      ]
     },
     "execution_count": 28,
     "metadata": {},
     "output_type": "execute_result"
    }
   ],
   "source": [
    "sms.diagnostic.het_breuschpagan(residual, Analyze_data[['TempChangeM']])"
   ]
  },
  {
   "cell_type": "code",
   "execution_count": 29,
   "id": "5847a54d-5f74-4346-8619-45f6c0bafba0",
   "metadata": {},
   "outputs": [],
   "source": [
    "#### Pvalue > .05 so we fail to reject the null hypothesis"
   ]
  },
  {
   "cell_type": "code",
   "execution_count": 30,
   "id": "bde0c5eb-3b3c-4628-bbd6-ceabb568621e",
   "metadata": {},
   "outputs": [
    {
     "data": {
      "text/plain": [
       "Ttest_1sampResult(statistic=1.3111040850425504, pvalue=0.207257157702494)"
      ]
     },
     "execution_count": 30,
     "metadata": {},
     "output_type": "execute_result"
    }
   ],
   "source": [
    "sms.linear_harvey_collier(model)"
   ]
  },
  {
   "cell_type": "code",
   "execution_count": 31,
   "id": "a13b59db-ae40-470a-bf63-82bf3c6b7f51",
   "metadata": {},
   "outputs": [],
   "source": [
    "#### Pvalue > .05 so we fail to reject the null hypothesis"
   ]
  },
  {
   "cell_type": "code",
   "execution_count": 32,
   "id": "e61bfdb0-766a-4df5-8a9d-e5d95e01249c",
   "metadata": {},
   "outputs": [
    {
     "data": {
      "image/png": "[encoded data removed]",
      "text/plain": [
       "<Figure size 864x576 with 1 Axes>"
      ]
     },
     "metadata": {
      "needs_background": "light"
     },
     "output_type": "display_data"
    }
   ],
   "source": [
    "fig, ax = plt.subplots(figsize=(12,8))\n",
    "fig = sm.graphics.influence_plot(model, alpha = .05, ax = ax, criterion=\"cooks\")"
   ]
  },
  {
   "cell_type": "code",
   "execution_count": 33,
   "id": "0b676d5d-8024-4714-ba5a-77fed3bf9a85",
   "metadata": {},
   "outputs": [],
   "source": [
    "#### Once again, we fail the assumption of Homoscedasticity there are big outliers influencing the data. Based on the graph \n",
    "#### abbove there must be a significant outlier after the H leverage of 0.2. We will test this with a table."
   ]
  },
  {
   "cell_type": "code",
   "execution_count": 34,
   "id": "926638de-65f2-4f7d-8362-cb6d9b5d51ba",
   "metadata": {},
   "outputs": [
    {
     "name": "stdout",
     "output_type": "stream",
     "text": [
      "    dfb_TempChangeM   cooks_d  standard_resid  hat_diag  dffits_internal  \\\n",
      "0          0.045953  0.002213        0.303866  0.023402         0.047038   \n",
      "1         -0.026405  0.000733       -0.130876  0.041054        -0.027079   \n",
      "2          0.040182  0.001694        0.255809  0.025234         0.041158   \n",
      "3         -0.043180  0.001958       -0.224829  0.037285        -0.044246   \n",
      "4         -0.015472  0.000252       -0.077354  0.040399        -0.015872   \n",
      "5          0.097140  0.009780        0.554860  0.030788         0.098894   \n",
      "6         -0.053669  0.003024       -0.228040  0.054957        -0.054991   \n",
      "7         -0.013297  0.000186       -0.064054  0.043385        -0.013641   \n",
      "8          0.046259  0.002248        0.198432  0.054011         0.047414   \n",
      "9          0.094910  0.007589        1.997922  0.001898         0.087118   \n",
      "10         0.156994  0.021671        1.814967  0.006536         0.147212   \n",
      "11         0.150057  0.022387        1.053475  0.019773         0.149622   \n",
      "12         0.153131  0.022394        1.362049  0.011927         0.149645   \n",
      "13        -0.297996  0.089075       -0.970296  0.086435        -0.298454   \n",
      "14         0.196607  0.036081        1.505015  0.015679         0.189949   \n",
      "15         0.200282  0.035177        1.827027  0.010428         0.187555   \n",
      "16        -0.177411  0.032626       -0.552355  0.096606        -0.180626   \n",
      "17        -0.884233  0.709134       -1.663573  0.203973        -0.842101   \n",
      "18        -0.034233  0.001233       -0.115364  0.084775        -0.035111   \n",
      "19         0.047910  0.002412        0.183197  0.067052         0.049113   \n",
      "20         0.117430  0.014292        0.554601  0.044404         0.119551   \n",
      "\n",
      "    student_resid    dffits  \n",
      "0        0.296858  0.045953  \n",
      "1       -0.127616 -0.026405  \n",
      "2        0.249740  0.040182  \n",
      "3       -0.219414 -0.043180  \n",
      "4       -0.075407 -0.015472  \n",
      "5        0.545022  0.097140  \n",
      "6       -0.222555 -0.053669  \n",
      "7       -0.062439 -0.013297  \n",
      "8        0.193598  0.046259  \n",
      "9        2.176620  0.094910  \n",
      "10       1.935578  0.156994  \n",
      "11       1.056533  0.150057  \n",
      "12       1.393777  0.153131  \n",
      "13      -0.968805 -0.297996  \n",
      "14       1.557768  0.196607  \n",
      "15       1.951005  0.200282  \n",
      "16      -0.542523 -0.177411  \n",
      "17      -1.746804 -0.884233  \n",
      "18      -0.112481 -0.034233  \n",
      "19       0.178709  0.047910  \n",
      "20       0.544764  0.117430  \n"
     ]
    }
   ],
   "source": [
    "infl2 = model.get_influence()\n",
    "print(infl2.summary_frame())"
   ]
  },
  {
   "cell_type": "code",
   "execution_count": 35,
   "id": "d44a57be-a69e-4275-82e6-cff2b68a056b",
   "metadata": {},
   "outputs": [],
   "source": [
    "#### Table doesn't indicate amy outlier issue."
   ]
  },
  {
   "cell_type": "code",
   "execution_count": 36,
   "id": "52111cab-af31-40a3-b7a7-8cd8d5308e7a",
   "metadata": {},
   "outputs": [
    {
     "data": {
      "text/html": [
       "<table class=\"simpletable\">\n",
       "<caption>OLS Regression Results</caption>\n",
       "<tr>\n",
       "  <th>Dep. Variable:</th>         <td>TonnesM</td>     <th>  R-squared (uncentered):</th>      <td>   0.849</td>\n",
       "</tr>\n",
       "<tr>\n",
       "  <th>Model:</th>                   <td>OLS</td>       <th>  Adj. R-squared (uncentered):</th> <td>   0.842</td>\n",
       "</tr>\n",
       "<tr>\n",
       "  <th>Method:</th>             <td>Least Squares</td>  <th>  F-statistic:       </th>          <td>   112.9</td>\n",
       "</tr>\n",
       "<tr>\n",
       "  <th>Date:</th>             <td>Mon, 04 Apr 2022</td> <th>  Prob (F-statistic):</th>          <td>1.13e-09</td>\n",
       "</tr>\n",
       "<tr>\n",
       "  <th>Time:</th>                 <td>01:24:26</td>     <th>  Log-Likelihood:    </th>          <td> -420.71</td>\n",
       "</tr>\n",
       "<tr>\n",
       "  <th>No. Observations:</th>      <td>    21</td>      <th>  AIC:               </th>          <td>   843.4</td>\n",
       "</tr>\n",
       "<tr>\n",
       "  <th>Df Residuals:</th>          <td>    20</td>      <th>  BIC:               </th>          <td>   844.5</td>\n",
       "</tr>\n",
       "<tr>\n",
       "  <th>Df Model:</th>              <td>     1</td>      <th>                     </th>              <td> </td>   \n",
       "</tr>\n",
       "<tr>\n",
       "  <th>Covariance Type:</th>      <td>nonrobust</td>    <th>                     </th>              <td> </td>   \n",
       "</tr>\n",
       "</table>\n",
       "<table class=\"simpletable\">\n",
       "<tr>\n",
       "       <td></td>          <th>coef</th>     <th>std err</th>      <th>t</th>      <th>P>|t|</th>  <th>[0.025</th>    <th>0.975]</th>  \n",
       "</tr>\n",
       "<tr>\n",
       "  <th>TempChangeM</th> <td> 2.678e+08</td> <td> 2.52e+07</td> <td>   10.623</td> <td> 0.000</td> <td> 2.15e+08</td> <td>  3.2e+08</td>\n",
       "</tr>\n",
       "</table>\n",
       "<table class=\"simpletable\">\n",
       "<tr>\n",
       "  <th>Omnibus:</th>       <td> 0.229</td> <th>  Durbin-Watson:     </th> <td>   1.264</td>\n",
       "</tr>\n",
       "<tr>\n",
       "  <th>Prob(Omnibus):</th> <td> 0.892</td> <th>  Jarque-Bera (JB):  </th> <td>   0.393</td>\n",
       "</tr>\n",
       "<tr>\n",
       "  <th>Skew:</th>          <td> 0.187</td> <th>  Prob(JB):          </th> <td>   0.822</td>\n",
       "</tr>\n",
       "<tr>\n",
       "  <th>Kurtosis:</th>      <td> 2.444</td> <th>  Cond. No.          </th> <td>    1.00</td>\n",
       "</tr>\n",
       "</table><br/><br/>Notes:<br/>[1] R² is computed without centering (uncentered) since the model does not contain a constant.<br/>[2] Standard Errors assume that the covariance matrix of the errors is correctly specified."
      ],
      "text/plain": [
       "<class 'statsmodels.iolib.summary.Summary'>\n",
       "\"\"\"\n",
       "                                 OLS Regression Results                                \n",
       "=======================================================================================\n",
       "Dep. Variable:                TonnesM   R-squared (uncentered):                   0.849\n",
       "Model:                            OLS   Adj. R-squared (uncentered):              0.842\n",
       "Method:                 Least Squares   F-statistic:                              112.9\n",
       "Date:                Mon, 04 Apr 2022   Prob (F-statistic):                    1.13e-09\n",
       "Time:                        01:24:26   Log-Likelihood:                         -420.71\n",
       "No. Observations:                  21   AIC:                                      843.4\n",
       "Df Residuals:                      20   BIC:                                      844.5\n",
       "Df Model:                           1                                                  \n",
       "Covariance Type:            nonrobust                                                  \n",
       "===============================================================================\n",
       "                  coef    std err          t      P>|t|      [0.025      0.975]\n",
       "-------------------------------------------------------------------------------\n",
       "TempChangeM  2.678e+08   2.52e+07     10.623      0.000    2.15e+08     3.2e+08\n",
       "==============================================================================\n",
       "Omnibus:                        0.229   Durbin-Watson:                   1.264\n",
       "Prob(Omnibus):                  0.892   Jarque-Bera (JB):                0.393\n",
       "Skew:                           0.187   Prob(JB):                        0.822\n",
       "Kurtosis:                       2.444   Cond. No.                         1.00\n",
       "==============================================================================\n",
       "\n",
       "Notes:\n",
       "[1] R² is computed without centering (uncentered) since the model does not contain a constant.\n",
       "[2] Standard Errors assume that the covariance matrix of the errors is correctly specified.\n",
       "\"\"\""
      ]
     },
     "execution_count": 36,
     "metadata": {},
     "output_type": "execute_result"
    }
   ],
   "source": [
    "model.summary()"
   ]
  },
  {
   "cell_type": "code",
   "execution_count": 37,
   "id": "3dbe9837-4ccf-477b-9e57-007bd1c742dd",
   "metadata": {},
   "outputs": [],
   "source": [
    "#### Omnibus: This is a test of skew and kurtosis of the residual. You want a value close to zero, which would indicate \n",
    "#### normality. Omnibus: 0.229 pass\n",
    "#### Prob(Omnibus): This is a test indicating the probabilty that residulas are normally distributed. You would like to \n",
    "#### see a value close to zero here, to inidcate a normal distribution. failed\n",
    "#### Skew: Again, you would like to see a value close to zero, and this result feeds into the Omnibus test \n",
    "#### discussed above. pass\n",
    "#### Kurtosis: If you have a value close to zero, this means our data is relatively normal. failed\n",
    "#### Durbin-Watson: This also tests for homoscedasticity! You would like a value between 1 and 2, otherwise you have the\n",
    "#### presence of heteroscedasticity within your data. Pass\n",
    "#### Jarque-Bera (JB): This also tests skew and kurtosis. It should also be close to zero. Failed\n",
    "#### Prob (JB): The probabilty that JB is normal. You would like this to be close to zero as well. Failed\n",
    "#### bCondition Number: You would like to see a condition number below 30 or so, becasue that indicates low \n",
    "#### multicollinearity. If you have higher than 30, it's time to suspect related variables! Pass"
   ]
  },
  {
   "cell_type": "code",
   "execution_count": 38,
   "id": "250ea37c-055e-4a44-a3eb-ae0cadccf5c6",
   "metadata": {},
   "outputs": [],
   "source": [
    "## US$1000 Soybeans"
   ]
  },
  {
   "cell_type": "code",
   "execution_count": 39,
   "id": "3f3ef77d-3565-4ed2-a68a-fb2834c33555",
   "metadata": {},
   "outputs": [],
   "source": [
    "x = Analyze_data['TempChangeSB']\n",
    "y = Analyze_data['US$1000SBCUBE']\n",
    "model = sm.OLS(y,x).fit()"
   ]
  },
  {
   "cell_type": "code",
   "execution_count": 40,
   "id": "d124227f-ed40-4902-a7fa-6ecf554bc438",
   "metadata": {},
   "outputs": [],
   "source": [
    "pred_val = model.fittedvalues.copy()\n",
    "true_val = Analyze_data['US$1000SBCUBE'].values.copy()\n",
    "residual = true_val - pred_val"
   ]
  },
  {
   "cell_type": "code",
   "execution_count": 41,
   "id": "1c921325-09c4-45b2-b4dc-61c25efbaeee",
   "metadata": {},
   "outputs": [
    {
     "data": {
      "image/png": "[encoded data removed]",
      "text/plain": [
       "<Figure size 720x360 with 1 Axes>"
      ]
     },
     "metadata": {
      "needs_background": "light"
     },
     "output_type": "display_data"
    }
   ],
   "source": [
    "fig, ax = plt.subplots(figsize=(10, 5))\n",
    "_ = ax.scatter(residual, pred_val)"
   ]
  },
  {
   "cell_type": "code",
   "execution_count": 43,
   "id": "e9a723a9-8868-467a-890e-14aa7871dc16",
   "metadata": {},
   "outputs": [
    {
     "data": {
      "text/plain": [
       "(6.821878469932459, nan, 9.623106213986533, 0.005617889956997403)"
      ]
     },
     "execution_count": 43,
     "metadata": {},
     "output_type": "execute_result"
    }
   ],
   "source": [
    "sms.diagnostic.het_breuschpagan(residual, Analyze_data[['TempChangeSB']])"
   ]
  },
  {
   "cell_type": "code",
   "execution_count": 44,
   "id": "bc58435a-e09a-445c-812f-5aa2e2342016",
   "metadata": {},
   "outputs": [],
   "source": [
    "#### Pvalue <.05 so we fail"
   ]
  },
  {
   "cell_type": "code",
   "execution_count": 45,
   "id": "86de89e9-934c-401a-8f10-df146155dc20",
   "metadata": {},
   "outputs": [
    {
     "data": {
      "text/plain": [
       "Ttest_1sampResult(statistic=-0.05230251891657686, pvalue=0.9588973286570562)"
      ]
     },
     "execution_count": 45,
     "metadata": {},
     "output_type": "execute_result"
    }
   ],
   "source": [
    "sms.linear_harvey_collier(model)"
   ]
  },
  {
   "cell_type": "code",
   "execution_count": 46,
   "id": "a674b27b-6e2f-4197-abff-e39f7eafb0df",
   "metadata": {},
   "outputs": [],
   "source": [
    "#### Pvalue > .05 so we pass"
   ]
  },
  {
   "cell_type": "code",
   "execution_count": 47,
   "id": "d119ecb0-ce45-4538-9ca1-411330a919e9",
   "metadata": {},
   "outputs": [
    {
     "data": {
      "image/png": "[encoded data removed]",
      "text/plain": [
       "<Figure size 864x576 with 1 Axes>"
      ]
     },
     "metadata": {
      "needs_background": "light"
     },
     "output_type": "display_data"
    }
   ],
   "source": [
    "fig, ax = plt.subplots(figsize=(12,8))\n",
    "fig = sm.graphics.influence_plot(model, alpha = .05, ax = ax, criterion=\"cooks\")"
   ]
  },
  {
   "cell_type": "code",
   "execution_count": 48,
   "id": "5df1f9d5-a121-4c4a-8f77-bc83580b6990",
   "metadata": {},
   "outputs": [
    {
     "name": "stdout",
     "output_type": "stream",
     "text": [
      "    dfb_TempChangeSB   cooks_d  standard_resid  hat_diag  dffits_internal  \\\n",
      "0           0.182687  0.032732        1.168743  0.023402         0.180919   \n",
      "1          -0.184686  0.034459       -0.897167  0.041054        -0.185632   \n",
      "2           0.084508  0.007410        0.535011  0.025234         0.086080   \n",
      "3           0.276342  0.072826        1.371272  0.037285         0.269863   \n",
      "4          -0.141546  0.020574       -0.699069  0.040399        -0.143437   \n",
      "5          -0.055810  0.003262       -0.320440  0.030788        -0.057113   \n",
      "6           0.057720  0.003496        0.245204  0.054957         0.059130   \n",
      "7           0.165947  0.028090        0.787002  0.043385         0.167601   \n",
      "8          -0.290809  0.082583       -1.202675  0.054011        -0.287372   \n",
      "9           0.055439  0.002982        1.252258  0.001898         0.054604   \n",
      "10          0.119451  0.013481        1.431468  0.006536         0.116106   \n",
      "11          0.248732  0.056073        1.667257  0.019773         0.236796   \n",
      "12         -0.178111  0.029335       -1.558925  0.011927        -0.171276   \n",
      "13          0.010336  0.000112        0.034474  0.086435         0.010604   \n",
      "14          0.036215  0.001375        0.293761  0.015679         0.037076   \n",
      "15         -0.147437  0.020641       -1.399528  0.010428        -0.143670   \n",
      "16         -0.145944  0.022188       -0.455508  0.096606        -0.148956   \n",
      "17         -0.645085  0.403544       -1.254940  0.203973        -0.635251   \n",
      "18          0.266609  0.071917        0.881144  0.084775         0.268174   \n",
      "19          0.150846  0.023559        0.572537  0.067052         0.153491   \n",
      "20          0.021547  0.000488        0.102527  0.044404         0.022101   \n",
      "\n",
      "    student_resid    dffits  \n",
      "0        1.180164  0.182687  \n",
      "1       -0.892597 -0.184686  \n",
      "2        0.525236  0.084508  \n",
      "3        1.404190  0.276342  \n",
      "4       -0.689848 -0.141546  \n",
      "5       -0.313131 -0.055810  \n",
      "6        0.239355  0.057720  \n",
      "7        0.779236  0.165947  \n",
      "8       -1.217058 -0.290809  \n",
      "9        1.271412  0.055439  \n",
      "10       1.472703  0.119451  \n",
      "11       1.751297  0.248732  \n",
      "12      -1.621135 -0.178111  \n",
      "13       0.033602  0.010336  \n",
      "14       0.286942  0.036215  \n",
      "15      -1.436230 -0.147437  \n",
      "16      -0.446295 -0.145944  \n",
      "17      -1.274367 -0.645085  \n",
      "18       0.876005  0.266609  \n",
      "19       0.562670  0.150846  \n",
      "20       0.099957  0.021547  \n"
     ]
    }
   ],
   "source": [
    "infl3 = model.get_influence()\n",
    "print(infl3.summary_frame())"
   ]
  },
  {
   "cell_type": "code",
   "execution_count": 49,
   "id": "f9beef8a-c727-40fa-ad6a-ec170d932f83",
   "metadata": {},
   "outputs": [
    {
     "data": {
      "text/html": [
       "<table class=\"simpletable\">\n",
       "<caption>OLS Regression Results</caption>\n",
       "<tr>\n",
       "  <th>Dep. Variable:</th>      <td>US$1000SBCUBE</td>  <th>  R-squared (uncentered):</th>      <td>-129602395328148619264.000</td>\n",
       "</tr>\n",
       "<tr>\n",
       "  <th>Model:</th>                   <td>OLS</td>       <th>  Adj. R-squared (uncentered):</th> <td>-136082515094556049408.000</td>\n",
       "</tr>\n",
       "<tr>\n",
       "  <th>Method:</th>             <td>Least Squares</td>  <th>  F-statistic:       </th>                   <td>  -20.00</td>         \n",
       "</tr>\n",
       "<tr>\n",
       "  <th>Date:</th>             <td>Mon, 04 Apr 2022</td> <th>  Prob (F-statistic):</th>                    <td>  1.00</td>          \n",
       "</tr>\n",
       "<tr>\n",
       "  <th>Time:</th>                 <td>01:30:38</td>     <th>  Log-Likelihood:    </th>                   <td> -934.78</td>         \n",
       "</tr>\n",
       "<tr>\n",
       "  <th>No. Observations:</th>      <td>    21</td>      <th>  AIC:               </th>                   <td>   1872.</td>         \n",
       "</tr>\n",
       "<tr>\n",
       "  <th>Df Residuals:</th>          <td>    20</td>      <th>  BIC:               </th>                   <td>   1873.</td>         \n",
       "</tr>\n",
       "<tr>\n",
       "  <th>Df Model:</th>              <td>     1</td>      <th>                     </th>                       <td> </td>            \n",
       "</tr>\n",
       "<tr>\n",
       "  <th>Covariance Type:</th>      <td>nonrobust</td>    <th>                     </th>                       <td> </td>            \n",
       "</tr>\n",
       "</table>\n",
       "<table class=\"simpletable\">\n",
       "<tr>\n",
       "        <td></td>          <th>coef</th>     <th>std err</th>      <th>t</th>      <th>P>|t|</th>  <th>[0.025</th>    <th>0.975]</th>  \n",
       "</tr>\n",
       "<tr>\n",
       "  <th>TempChangeSB</th> <td> 9.231e+16</td> <td> 1.08e+18</td> <td>    0.086</td> <td> 0.933</td> <td>-2.16e+18</td> <td> 2.34e+18</td>\n",
       "</tr>\n",
       "</table>\n",
       "<table class=\"simpletable\">\n",
       "<tr>\n",
       "  <th>Omnibus:</th>       <td> 2.898</td> <th>  Durbin-Watson:     </th> <td>   2.126</td>\n",
       "</tr>\n",
       "<tr>\n",
       "  <th>Prob(Omnibus):</th> <td> 0.235</td> <th>  Jarque-Bera (JB):  </th> <td>   1.300</td>\n",
       "</tr>\n",
       "<tr>\n",
       "  <th>Skew:</th>          <td>-0.171</td> <th>  Prob(JB):          </th> <td>   0.522</td>\n",
       "</tr>\n",
       "<tr>\n",
       "  <th>Kurtosis:</th>      <td> 1.830</td> <th>  Cond. No.          </th> <td>    1.00</td>\n",
       "</tr>\n",
       "</table><br/><br/>Notes:<br/>[1] R² is computed without centering (uncentered) since the model does not contain a constant.<br/>[2] Standard Errors assume that the covariance matrix of the errors is correctly specified."
      ],
      "text/plain": [
       "<class 'statsmodels.iolib.summary.Summary'>\n",
       "\"\"\"\n",
       "                                     OLS Regression Results                                    \n",
       "===============================================================================================\n",
       "Dep. Variable:          US$1000SBCUBE   R-squared (uncentered):      -129602395328148619264.000\n",
       "Model:                            OLS   Adj. R-squared (uncentered): -136082515094556049408.000\n",
       "Method:                 Least Squares   F-statistic:                                     -20.00\n",
       "Date:                Mon, 04 Apr 2022   Prob (F-statistic):                                1.00\n",
       "Time:                        01:30:38   Log-Likelihood:                                 -934.78\n",
       "No. Observations:                  21   AIC:                                              1872.\n",
       "Df Residuals:                      20   BIC:                                              1873.\n",
       "Df Model:                           1                                                          \n",
       "Covariance Type:            nonrobust                                                          \n",
       "================================================================================\n",
       "                   coef    std err          t      P>|t|      [0.025      0.975]\n",
       "--------------------------------------------------------------------------------\n",
       "TempChangeSB  9.231e+16   1.08e+18      0.086      0.933   -2.16e+18    2.34e+18\n",
       "==============================================================================\n",
       "Omnibus:                        2.898   Durbin-Watson:                   2.126\n",
       "Prob(Omnibus):                  0.235   Jarque-Bera (JB):                1.300\n",
       "Skew:                          -0.171   Prob(JB):                        0.522\n",
       "Kurtosis:                       1.830   Cond. No.                         1.00\n",
       "==============================================================================\n",
       "\n",
       "Notes:\n",
       "[1] R² is computed without centering (uncentered) since the model does not contain a constant.\n",
       "[2] Standard Errors assume that the covariance matrix of the errors is correctly specified.\n",
       "\"\"\""
      ]
     },
     "execution_count": 49,
     "metadata": {},
     "output_type": "execute_result"
    }
   ],
   "source": [
    "model.summary()"
   ]
  },
  {
   "cell_type": "code",
   "execution_count": 50,
   "id": "964f1cdf-b16d-4dc4-b1ef-4a3a58ac4777",
   "metadata": {},
   "outputs": [],
   "source": [
    "#### Omnibus: This is a test of skew and kurtosis of the residual. You want a value close to zero, which would indicate \n",
    "#### normality. Omnibus: 2.898 failed\n",
    "#### Prob(Omnibus): This is a test indicating the probabilty that residulas are normally distributed. You would like to \n",
    "#### see a value close to zero here, to inidcate a normal distribution. Pass\n",
    "#### Skew: Again, you would like to see a value close to zero, and this result feeds into the Omnibus test \n",
    "#### discussed above. passed\n",
    "#### Kurtosis: If you have a value close to zero, this means our data is relatively normal. Failed\n",
    "#### Durbin-Watson: This also tests for homoscedasticity! You would like a value between 1 and 2, otherwise you have the \n",
    "#### presence of heteroscedasticity within your data. Failed\n",
    "#### Jarque-Bera (JB): This also tests skew and kurtosis. It should also be close to zero. Failed\n",
    "#### Prob (JB): The probabilty that JB is normal. You would like this to be close to zero as well. Failed\n",
    "#### bCondition Number: You would like to see a condition number below 30 or so, becasue that indicates low \n",
    "#### multicollinearity. If you have higher than 30, it's time to suspect related variables! Pass"
   ]
  },
  {
   "cell_type": "code",
   "execution_count": 51,
   "id": "79e8b887-1b9b-45a7-8fe8-9fdb54ccbe51",
   "metadata": {},
   "outputs": [],
   "source": [
    "#### Tonnes SoyBean"
   ]
  },
  {
   "cell_type": "code",
   "execution_count": 52,
   "id": "68e2e572-4ed1-483b-ac17-5d1b8f62629f",
   "metadata": {},
   "outputs": [],
   "source": [
    "x = Analyze_data['TempChangeSB']\n",
    "y = Analyze_data['TonnesSB']\n",
    "model = sm.OLS(y,x).fit()"
   ]
  },
  {
   "cell_type": "code",
   "execution_count": 54,
   "id": "9904c45b-7e0f-4b35-9306-1e2ff310bb00",
   "metadata": {},
   "outputs": [],
   "source": [
    "pred_val = model.fittedvalues.copy()\n",
    "true_val = Analyze_data['TonnesSB'].values.copy()\n",
    "residual = true_val - pred_val"
   ]
  },
  {
   "cell_type": "code",
   "execution_count": 55,
   "id": "4a7d4b98-49db-43d1-8952-13290d70a3cf",
   "metadata": {},
   "outputs": [
    {
     "data": {
      "image/png": "[encoded data removed]",
      "text/plain": [
       "<Figure size 720x360 with 1 Axes>"
      ]
     },
     "metadata": {
      "needs_background": "light"
     },
     "output_type": "display_data"
    }
   ],
   "source": [
    "fig, ax = plt.subplots(figsize=(10, 5))\n",
    "_ = ax.scatter(residual, pred_val)"
   ]
  },
  {
   "cell_type": "code",
   "execution_count": 57,
   "id": "8d6882b0-c912-4b8a-9045-f9f840c881c0",
   "metadata": {},
   "outputs": [
    {
     "data": {
      "text/plain": [
       "(4.317914986396735, nan, 5.176709005949471, 0.034047370971411736)"
      ]
     },
     "execution_count": 57,
     "metadata": {},
     "output_type": "execute_result"
    }
   ],
   "source": [
    "sms.diagnostic.het_breuschpagan(residual, Analyze_data[['TempChangeSB']])"
   ]
  },
  {
   "cell_type": "code",
   "execution_count": 58,
   "id": "51442fe3-cb7b-4649-be81-87b9d0bda63a",
   "metadata": {},
   "outputs": [],
   "source": [
    "#### Pvalue is < .05 Failed"
   ]
  },
  {
   "cell_type": "code",
   "execution_count": 59,
   "id": "5fac10d1-ef7a-4d76-aca2-855b86947a75",
   "metadata": {},
   "outputs": [
    {
     "data": {
      "text/plain": [
       "Ttest_1sampResult(statistic=1.2085061932244618, pvalue=0.24339478090987268)"
      ]
     },
     "execution_count": 59,
     "metadata": {},
     "output_type": "execute_result"
    }
   ],
   "source": [
    "sms.linear_harvey_collier(model)"
   ]
  },
  {
   "cell_type": "code",
   "execution_count": 60,
   "id": "0ed780ff-b805-4dfb-8c2d-4a8a3da012ea",
   "metadata": {},
   "outputs": [],
   "source": [
    "#### Pvalue >.05 Passed"
   ]
  },
  {
   "cell_type": "code",
   "execution_count": 61,
   "id": "b63121e9-7bef-48d3-bf18-9a4c934cf9c3",
   "metadata": {},
   "outputs": [
    {
     "data": {
      "image/png": "[encoded data removed]",
      "text/plain": [
       "<Figure size 864x576 with 1 Axes>"
      ]
     },
     "metadata": {
      "needs_background": "light"
     },
     "output_type": "display_data"
    }
   ],
   "source": [
    "ig, ax = plt.subplots(figsize=(12,8))\n",
    "fig = sm.graphics.influence_plot(model, alpha = .05, ax = ax, criterion=\"cooks\")"
   ]
  },
  {
   "cell_type": "code",
   "execution_count": 62,
   "id": "1cfac032-e0c6-45ad-b599-25d8f783740d",
   "metadata": {},
   "outputs": [
    {
     "name": "stdout",
     "output_type": "stream",
     "text": [
      "    dfb_TempChangeSB       cooks_d  standard_resid  hat_diag  dffits_internal  \\\n",
      "0           0.057134  3.411650e-03        0.377326  0.023402         0.058409   \n",
      "1          -0.021780  4.990527e-04       -0.107968  0.041054        -0.022339   \n",
      "2           0.078981  6.484072e-03        0.500474  0.025234         0.080524   \n",
      "3           0.000113  1.349198e-08        0.000590  0.037285         0.000116   \n",
      "4          -0.067181  4.724212e-03       -0.334982  0.040399        -0.068733   \n",
      "5           0.087178  7.900555e-03        0.498705  0.030788         0.088885   \n",
      "6          -0.053090  2.959387e-03       -0.225589  0.054957        -0.054400   \n",
      "7           0.037759  1.498263e-03        0.181758  0.043385         0.038707   \n",
      "8          -0.122051  1.546805e-02       -0.520501  0.054011        -0.124371   \n",
      "9           0.086884  6.572679e-03        1.859277  0.001898         0.081072   \n",
      "10          0.150732  2.023739e-02        1.753897  0.006536         0.142258   \n",
      "11          0.150997  2.265253e-02        1.059707  0.019773         0.150508   \n",
      "12          0.136520  1.814406e-02        1.226018  0.011927         0.134700   \n",
      "13         -0.293260  8.639482e-02       -0.955586  0.086435        -0.293930   \n",
      "14          0.160737  2.505724e-02        1.254210  0.015679         0.158295   \n",
      "15          0.219062  4.074795e-02        1.966390  0.010428         0.201861   \n",
      "16         -0.134821  1.896373e-02       -0.421113  0.096606        -0.137709   \n",
      "17         -1.040147  9.317841e-01       -1.906932  0.203973        -0.965290   \n",
      "18          0.063141  4.187168e-03        0.212614  0.084775         0.064708   \n",
      "19          0.158500  2.596665e-02        0.601076  0.067052         0.161142   \n",
      "20          0.093218  9.057723e-03        0.441507  0.044404         0.095172   \n",
      "\n",
      "    student_resid    dffits  \n",
      "0        0.369088  0.057134  \n",
      "1       -0.105265 -0.021780  \n",
      "2        0.490886  0.078981  \n",
      "3        0.000575  0.000113  \n",
      "4       -0.327420 -0.067181  \n",
      "5        0.489128  0.087178  \n",
      "6       -0.220157 -0.053090  \n",
      "7        0.177302  0.037759  \n",
      "8       -0.510793 -0.122051  \n",
      "9        1.992565  0.086884  \n",
      "10       1.858367  0.150732  \n",
      "11       1.063154  0.150997  \n",
      "12       1.242580  0.136520  \n",
      "13      -0.953410 -0.293260  \n",
      "14       1.273562  0.160737  \n",
      "15       2.133953  0.219062  \n",
      "16      -0.412282 -0.134821  \n",
      "17      -2.054814 -1.040147  \n",
      "18       0.207465  0.063141  \n",
      "19       0.591221  0.158500  \n",
      "20       0.432440  0.093218  \n"
     ]
    }
   ],
   "source": [
    "infl3 = model.get_influence()\n",
    "print(infl3.summary_frame())"
   ]
  },
  {
   "cell_type": "code",
   "execution_count": 63,
   "id": "62504f71-e5ab-4832-89bc-1d355d6266c5",
   "metadata": {},
   "outputs": [
    {
     "data": {
      "text/html": [
       "<table class=\"simpletable\">\n",
       "<caption>OLS Regression Results</caption>\n",
       "<tr>\n",
       "  <th>Dep. Variable:</th>        <td>TonnesSB</td>     <th>  R-squared (uncentered):</th>      <td>   0.865</td>\n",
       "</tr>\n",
       "<tr>\n",
       "  <th>Model:</th>                   <td>OLS</td>       <th>  Adj. R-squared (uncentered):</th> <td>   0.858</td>\n",
       "</tr>\n",
       "<tr>\n",
       "  <th>Method:</th>             <td>Least Squares</td>  <th>  F-statistic:       </th>          <td>   127.7</td>\n",
       "</tr>\n",
       "<tr>\n",
       "  <th>Date:</th>             <td>Mon, 04 Apr 2022</td> <th>  Prob (F-statistic):</th>          <td>3.89e-10</td>\n",
       "</tr>\n",
       "<tr>\n",
       "  <th>Time:</th>                 <td>01:36:44</td>     <th>  Log-Likelihood:    </th>          <td> -393.69</td>\n",
       "</tr>\n",
       "<tr>\n",
       "  <th>No. Observations:</th>      <td>    21</td>      <th>  AIC:               </th>          <td>   789.4</td>\n",
       "</tr>\n",
       "<tr>\n",
       "  <th>Df Residuals:</th>          <td>    20</td>      <th>  BIC:               </th>          <td>   790.4</td>\n",
       "</tr>\n",
       "<tr>\n",
       "  <th>Df Model:</th>              <td>     1</td>      <th>                     </th>              <td> </td>   \n",
       "</tr>\n",
       "<tr>\n",
       "  <th>Covariance Type:</th>      <td>nonrobust</td>    <th>                     </th>              <td> </td>   \n",
       "</tr>\n",
       "</table>\n",
       "<table class=\"simpletable\">\n",
       "<tr>\n",
       "        <td></td>          <th>coef</th>     <th>std err</th>      <th>t</th>      <th>P>|t|</th>  <th>[0.025</th>    <th>0.975]</th>  \n",
       "</tr>\n",
       "<tr>\n",
       "  <th>TempChangeSB</th> <td> 7.869e+07</td> <td> 6.96e+06</td> <td>   11.302</td> <td> 0.000</td> <td> 6.42e+07</td> <td> 9.32e+07</td>\n",
       "</tr>\n",
       "</table>\n",
       "<table class=\"simpletable\">\n",
       "<tr>\n",
       "  <th>Omnibus:</th>       <td> 0.085</td> <th>  Durbin-Watson:     </th> <td>   1.480</td>\n",
       "</tr>\n",
       "<tr>\n",
       "  <th>Prob(Omnibus):</th> <td> 0.958</td> <th>  Jarque-Bera (JB):  </th> <td>   0.076</td>\n",
       "</tr>\n",
       "<tr>\n",
       "  <th>Skew:</th>          <td>-0.067</td> <th>  Prob(JB):          </th> <td>   0.963</td>\n",
       "</tr>\n",
       "<tr>\n",
       "  <th>Kurtosis:</th>      <td> 2.737</td> <th>  Cond. No.          </th> <td>    1.00</td>\n",
       "</tr>\n",
       "</table><br/><br/>Notes:<br/>[1] R² is computed without centering (uncentered) since the model does not contain a constant.<br/>[2] Standard Errors assume that the covariance matrix of the errors is correctly specified."
      ],
      "text/plain": [
       "<class 'statsmodels.iolib.summary.Summary'>\n",
       "\"\"\"\n",
       "                                 OLS Regression Results                                \n",
       "=======================================================================================\n",
       "Dep. Variable:               TonnesSB   R-squared (uncentered):                   0.865\n",
       "Model:                            OLS   Adj. R-squared (uncentered):              0.858\n",
       "Method:                 Least Squares   F-statistic:                              127.7\n",
       "Date:                Mon, 04 Apr 2022   Prob (F-statistic):                    3.89e-10\n",
       "Time:                        01:36:44   Log-Likelihood:                         -393.69\n",
       "No. Observations:                  21   AIC:                                      789.4\n",
       "Df Residuals:                      20   BIC:                                      790.4\n",
       "Df Model:                           1                                                  \n",
       "Covariance Type:            nonrobust                                                  \n",
       "================================================================================\n",
       "                   coef    std err          t      P>|t|      [0.025      0.975]\n",
       "--------------------------------------------------------------------------------\n",
       "TempChangeSB  7.869e+07   6.96e+06     11.302      0.000    6.42e+07    9.32e+07\n",
       "==============================================================================\n",
       "Omnibus:                        0.085   Durbin-Watson:                   1.480\n",
       "Prob(Omnibus):                  0.958   Jarque-Bera (JB):                0.076\n",
       "Skew:                          -0.067   Prob(JB):                        0.963\n",
       "Kurtosis:                       2.737   Cond. No.                         1.00\n",
       "==============================================================================\n",
       "\n",
       "Notes:\n",
       "[1] R² is computed without centering (uncentered) since the model does not contain a constant.\n",
       "[2] Standard Errors assume that the covariance matrix of the errors is correctly specified.\n",
       "\"\"\""
      ]
     },
     "execution_count": 63,
     "metadata": {},
     "output_type": "execute_result"
    }
   ],
   "source": [
    "model.summary()"
   ]
  },
  {
   "cell_type": "code",
   "execution_count": 64,
   "id": "753808a9-76f3-49b0-85f4-ad65637bbd43",
   "metadata": {},
   "outputs": [],
   "source": [
    "#### Omnibus: This is a test of skew and kurtosis of the residual. You want a value close to zero, which would indicate \n",
    "#### normality. Omnibus: .085 Passed\n",
    "#### Prob(Omnibus): This is a test indicating the probabilty that residulas are normally distributed. You would like to \n",
    "#### see a value close to zero here, to inidcate a normal distribution. Failed\n",
    "#### Skew: Again, you would like to see a value close to zero, and this result feeds into the Omnibus test \n",
    "#### discussed above. passed\n",
    "#### Kurtosis: If you have a value close to zero, this means our data is relatively normal. Failed\n",
    "#### Durbin-Watson: This also tests for homoscedasticity! You would like a value between 1 and 2, otherwise you have the \n",
    "#### presence of heteroscedasticity within your data. Passed\n",
    "#### Jarque-Bera (JB): This also tests skew and kurtosis. It should also be close to zero. Passed\n",
    "#### Prob (JB): The probabilty that JB is normal. You would like this to be close to zero as well. Failed\n",
    "#### bCondition Number: You would like to see a condition number below 30 or so, becasue that indicates low \n",
    "#### multicollinearity. If you have higher than 30, it's time to suspect related variables! Pass"
   ]
  },
  {
   "cell_type": "code",
   "execution_count": 65,
   "id": "15d541fa-e9cb-4a12-9fc9-25a656be3c2f",
   "metadata": {},
   "outputs": [],
   "source": [
    "## US$1000LOG Wheat"
   ]
  },
  {
   "cell_type": "code",
   "execution_count": 67,
   "id": "04f5dda7-1ef5-4293-9759-a3aa68e1b25f",
   "metadata": {},
   "outputs": [],
   "source": [
    "x = Analyze_data['TempChangeW']\n",
    "y = Analyze_data['US$1000WLOG']\n",
    "model = sm.OLS(y,x).fit()"
   ]
  },
  {
   "cell_type": "code",
   "execution_count": 68,
   "id": "a2493d40-ea2b-4efd-9556-8785173aaab0",
   "metadata": {},
   "outputs": [],
   "source": [
    "pred_val = model.fittedvalues.copy()\n",
    "true_val = Analyze_data['US$1000WLOG'].values.copy()\n",
    "residual = true_val - pred_val"
   ]
  },
  {
   "cell_type": "code",
   "execution_count": 69,
   "id": "5dec7e08-a33a-4b08-8c16-981d30ba2d84",
   "metadata": {},
   "outputs": [
    {
     "data": {
      "image/png": "[encoded data removed]",
      "text/plain": [
       "<Figure size 720x360 with 1 Axes>"
      ]
     },
     "metadata": {
      "needs_background": "light"
     },
     "output_type": "display_data"
    }
   ],
   "source": [
    "fig, ax = plt.subplots(figsize=(10, 5))\n",
    "_ = ax.scatter(residual, pred_val)"
   ]
  },
  {
   "cell_type": "code",
   "execution_count": 71,
   "id": "b36b751e-0c87-43ab-9ed7-024795aef459",
   "metadata": {},
   "outputs": [
    {
     "data": {
      "text/plain": [
       "(5.43770204974305, nan, 6.988302199487533, 0.015583790007183126)"
      ]
     },
     "execution_count": 71,
     "metadata": {},
     "output_type": "execute_result"
    }
   ],
   "source": [
    "sms.diagnostic.het_breuschpagan(residual, Analyze_data[['TempChangeW']])"
   ]
  },
  {
   "cell_type": "code",
   "execution_count": 72,
   "id": "8daefbc0-332a-42b5-a1c5-ae9bf2b0b237",
   "metadata": {},
   "outputs": [],
   "source": [
    "#### Pvalue <.05 Failed"
   ]
  },
  {
   "cell_type": "code",
   "execution_count": 73,
   "id": "f0ee7d3f-244d-4c18-b5f9-b49ea0d703f9",
   "metadata": {},
   "outputs": [
    {
     "data": {
      "text/plain": [
       "Ttest_1sampResult(statistic=0.06298774266652259, pvalue=0.9505109484924098)"
      ]
     },
     "execution_count": 73,
     "metadata": {},
     "output_type": "execute_result"
    }
   ],
   "source": [
    "sms.linear_harvey_collier(model)"
   ]
  },
  {
   "cell_type": "code",
   "execution_count": 74,
   "id": "eaa0ddc5-2297-4348-963e-96f005c3abce",
   "metadata": {},
   "outputs": [],
   "source": [
    "#### Pvalue > .05 Passed"
   ]
  },
  {
   "cell_type": "code",
   "execution_count": 75,
   "id": "c0fc98f6-2fda-4dd1-822b-3e5294871aa5",
   "metadata": {},
   "outputs": [],
   "source": [
    "## Testing for outliers"
   ]
  },
  {
   "cell_type": "code",
   "execution_count": 76,
   "id": "087d3ee7-f264-48ab-b173-2fcbd5475233",
   "metadata": {},
   "outputs": [
    {
     "data": {
      "image/png": "[encoded data removed]",
      "text/plain": [
       "<Figure size 864x576 with 1 Axes>"
      ]
     },
     "metadata": {
      "needs_background": "light"
     },
     "output_type": "display_data"
    }
   ],
   "source": [
    "fig, ax = plt.subplots(figsize=(12,8))\n",
    "fig = sm.graphics.influence_plot(model, alpha = .05, ax = ax, criterion=\"cooks\")"
   ]
  },
  {
   "cell_type": "code",
   "execution_count": 77,
   "id": "84d01095-ed90-4681-9031-164a1f48becf",
   "metadata": {},
   "outputs": [
    {
     "name": "stdout",
     "output_type": "stream",
     "text": [
      "    dfb_TempChangeW   cooks_d  standard_resid  hat_diag  dffits_internal  \\\n",
      "0          0.120544  0.014823        0.786495  0.023402         0.121748   \n",
      "1          0.060658  0.003856        0.300101  0.041054         0.062093   \n",
      "2          0.114601  0.013465        0.721209  0.025234         0.116039   \n",
      "3          0.075515  0.005956        0.392168  0.037285         0.077178   \n",
      "4          0.072889  0.005555        0.363260  0.040399         0.074535   \n",
      "5          0.105763  0.011560        0.603253  0.030788         0.107519   \n",
      "6          0.003243  0.000011        0.013797  0.054957         0.003327   \n",
      "7          0.059483  0.003709        0.285984  0.043385         0.060904   \n",
      "8          0.029388  0.000908        0.126137  0.054011         0.030140   \n",
      "9          0.095702  0.007691        2.011235  0.001898         0.087698   \n",
      "10         0.133835  0.016491        1.583276  0.006536         0.128419   \n",
      "11         0.145667  0.021164        1.024295  0.019773         0.145478   \n",
      "12         0.151753  0.022029        1.350910  0.011927         0.148421   \n",
      "13        -0.138626  0.020015       -0.459940  0.086435        -0.141474   \n",
      "14         0.152828  0.022824        1.197022  0.015679         0.151077   \n",
      "15         0.146767  0.020472        1.393786  0.010428         0.143080   \n",
      "16        -0.233377  0.055835       -0.722584  0.096606        -0.236293   \n",
      "17        -1.351055  1.397471       -2.335333  0.203973        -1.182147   \n",
      "18        -0.163709  0.027788       -0.547720  0.084775        -0.166697   \n",
      "19        -0.049711  0.002597       -0.190074  0.067052        -0.050957   \n",
      "20         0.058941  0.003642        0.279980  0.044404         0.060353   \n",
      "\n",
      "    student_resid    dffits  \n",
      "0        0.778717  0.120544  \n",
      "1        0.293163  0.060658  \n",
      "2        0.712271  0.114601  \n",
      "3        0.383716  0.075515  \n",
      "4        0.355236  0.072889  \n",
      "5        0.593402  0.105763  \n",
      "6        0.013447  0.003243  \n",
      "7        0.279315  0.059483  \n",
      "8        0.122992  0.029388  \n",
      "9        2.194785  0.095702  \n",
      "10       1.650054  0.133835  \n",
      "11       1.025623  0.145667  \n",
      "12       1.381228  0.151753  \n",
      "13      -0.450684 -0.138626  \n",
      "14       1.210895  0.152828  \n",
      "15       1.429703  0.146767  \n",
      "16      -0.713665 -0.233377  \n",
      "17      -2.669013 -1.351055  \n",
      "18      -0.537901 -0.163709  \n",
      "19      -0.185429 -0.049711  \n",
      "20       0.273427  0.058941  \n"
     ]
    }
   ],
   "source": [
    "infl4 = model.get_influence()\n",
    "print(infl4.summary_frame())"
   ]
  },
  {
   "cell_type": "code",
   "execution_count": 78,
   "id": "95c8611d-4668-46dd-8571-4d45d7bea6c5",
   "metadata": {},
   "outputs": [],
   "source": [
    "#### Student_resid has a value over 2.5 whiich signifies that we have a outlier problem."
   ]
  },
  {
   "cell_type": "code",
   "execution_count": 79,
   "id": "738515fe-1cda-412d-9d1a-db6ef426e25c",
   "metadata": {},
   "outputs": [
    {
     "data": {
      "text/html": [
       "<table class=\"simpletable\">\n",
       "<caption>OLS Regression Results</caption>\n",
       "<tr>\n",
       "  <th>Dep. Variable:</th>       <td>US$1000WLOG</td>   <th>  R-squared (uncentered):</th>      <td>   0.828</td>\n",
       "</tr>\n",
       "<tr>\n",
       "  <th>Model:</th>                   <td>OLS</td>       <th>  Adj. R-squared (uncentered):</th> <td>   0.819</td>\n",
       "</tr>\n",
       "<tr>\n",
       "  <th>Method:</th>             <td>Least Squares</td>  <th>  F-statistic:       </th>          <td>   96.09</td>\n",
       "</tr>\n",
       "<tr>\n",
       "  <th>Date:</th>             <td>Mon, 04 Apr 2022</td> <th>  Prob (F-statistic):</th>          <td>4.42e-09</td>\n",
       "</tr>\n",
       "<tr>\n",
       "  <th>Time:</th>                 <td>01:43:34</td>     <th>  Log-Likelihood:    </th>          <td> -69.639</td>\n",
       "</tr>\n",
       "<tr>\n",
       "  <th>No. Observations:</th>      <td>    21</td>      <th>  AIC:               </th>          <td>   141.3</td>\n",
       "</tr>\n",
       "<tr>\n",
       "  <th>Df Residuals:</th>          <td>    20</td>      <th>  BIC:               </th>          <td>   142.3</td>\n",
       "</tr>\n",
       "<tr>\n",
       "  <th>Df Model:</th>              <td>     1</td>      <th>                     </th>              <td> </td>   \n",
       "</tr>\n",
       "<tr>\n",
       "  <th>Covariance Type:</th>      <td>nonrobust</td>    <th>                     </th>              <td> </td>   \n",
       "</tr>\n",
       "</table>\n",
       "<table class=\"simpletable\">\n",
       "<tr>\n",
       "       <td></td>          <th>coef</th>     <th>std err</th>      <th>t</th>      <th>P>|t|</th>  <th>[0.025</th>    <th>0.975]</th>  \n",
       "</tr>\n",
       "<tr>\n",
       "  <th>TempChangeW</th> <td>   13.5693</td> <td>    1.384</td> <td>    9.803</td> <td> 0.000</td> <td>   10.682</td> <td>   16.457</td>\n",
       "</tr>\n",
       "</table>\n",
       "<table class=\"simpletable\">\n",
       "<tr>\n",
       "  <th>Omnibus:</th>       <td> 4.363</td> <th>  Durbin-Watson:     </th> <td>   1.002</td>\n",
       "</tr>\n",
       "<tr>\n",
       "  <th>Prob(Omnibus):</th> <td> 0.113</td> <th>  Jarque-Bera (JB):  </th> <td>   2.311</td>\n",
       "</tr>\n",
       "<tr>\n",
       "  <th>Skew:</th>          <td>-0.667</td> <th>  Prob(JB):          </th> <td>   0.315</td>\n",
       "</tr>\n",
       "<tr>\n",
       "  <th>Kurtosis:</th>      <td> 3.928</td> <th>  Cond. No.          </th> <td>    1.00</td>\n",
       "</tr>\n",
       "</table><br/><br/>Notes:<br/>[1] R² is computed without centering (uncentered) since the model does not contain a constant.<br/>[2] Standard Errors assume that the covariance matrix of the errors is correctly specified."
      ],
      "text/plain": [
       "<class 'statsmodels.iolib.summary.Summary'>\n",
       "\"\"\"\n",
       "                                 OLS Regression Results                                \n",
       "=======================================================================================\n",
       "Dep. Variable:            US$1000WLOG   R-squared (uncentered):                   0.828\n",
       "Model:                            OLS   Adj. R-squared (uncentered):              0.819\n",
       "Method:                 Least Squares   F-statistic:                              96.09\n",
       "Date:                Mon, 04 Apr 2022   Prob (F-statistic):                    4.42e-09\n",
       "Time:                        01:43:34   Log-Likelihood:                         -69.639\n",
       "No. Observations:                  21   AIC:                                      141.3\n",
       "Df Residuals:                      20   BIC:                                      142.3\n",
       "Df Model:                           1                                                  \n",
       "Covariance Type:            nonrobust                                                  \n",
       "===============================================================================\n",
       "                  coef    std err          t      P>|t|      [0.025      0.975]\n",
       "-------------------------------------------------------------------------------\n",
       "TempChangeW    13.5693      1.384      9.803      0.000      10.682      16.457\n",
       "==============================================================================\n",
       "Omnibus:                        4.363   Durbin-Watson:                   1.002\n",
       "Prob(Omnibus):                  0.113   Jarque-Bera (JB):                2.311\n",
       "Skew:                          -0.667   Prob(JB):                        0.315\n",
       "Kurtosis:                       3.928   Cond. No.                         1.00\n",
       "==============================================================================\n",
       "\n",
       "Notes:\n",
       "[1] R² is computed without centering (uncentered) since the model does not contain a constant.\n",
       "[2] Standard Errors assume that the covariance matrix of the errors is correctly specified.\n",
       "\"\"\""
      ]
     },
     "execution_count": 79,
     "metadata": {},
     "output_type": "execute_result"
    }
   ],
   "source": [
    "model.summary()"
   ]
  },
  {
   "cell_type": "code",
   "execution_count": 80,
   "id": "3bc34702-6ff5-4f29-839e-309edaa72f46",
   "metadata": {},
   "outputs": [],
   "source": [
    "#### Omnibus: This is a test of skew and kurtosis of the residual. You want a value close to zero, which would \n",
    "#### indicate normality. Omnibus: 4.363 failed\n",
    "#### Prob(Omnibus): This is a test indicating the probabilty that residulas are normally distributed. You would like to \n",
    "#### see a value close to zero here, to inidcate a normal distribution. Pass\n",
    "#### Skew: Again, you would like to see a value close to zero. Pass\n",
    "#### Kurtosis: If you have a value close to zero, this means our data is relatively normal. Fail\n",
    "#### Durbin-Watson: This also tests for homoscedasticity! You would like a value between 1 and 2, otherwise you have the \n",
    "#### presence of heteroscedasticity within your data. Passed\n",
    "#### Jarque-Bera (JB): This also tests skew and kurtosis. It should also be close to zero. Failed\n",
    "#### Prob (JB): The probabilty that JB is normal. You would like this to be close to zero as well. Pass\n",
    "#### bCondition Number: You would like to see a condition number below 30 or so, becasue that indicates low \n",
    "#### multicollinearity. If you have higher than 30, it's time to suspect related variables! Pass"
   ]
  },
  {
   "cell_type": "code",
   "execution_count": 81,
   "id": "5b8b1f38-5148-477c-99aa-aa51522bccdb",
   "metadata": {},
   "outputs": [],
   "source": [
    "#### ## Tonnes Wheat"
   ]
  },
  {
   "cell_type": "code",
   "execution_count": 82,
   "id": "3f1a0dee-a107-4980-9767-ae338bd20a65",
   "metadata": {},
   "outputs": [],
   "source": [
    "x = Analyze_data['TempChangeW']\n",
    "y = Analyze_data['TonnesW']\n",
    "model = sm.OLS(y,x).fit()"
   ]
  },
  {
   "cell_type": "code",
   "execution_count": 83,
   "id": "0033edd3-c708-4f44-91da-3a634d4b7279",
   "metadata": {},
   "outputs": [],
   "source": [
    "pred_val = model.fittedvalues.copy()\n",
    "true_val = Analyze_data['TonnesW'].values.copy()\n",
    "residual = true_val - pred_val"
   ]
  },
  {
   "cell_type": "code",
   "execution_count": 84,
   "id": "34732c21-4907-426d-bfe1-521762d5d67c",
   "metadata": {},
   "outputs": [
    {
     "data": {
      "image/png": "[encoded data removed]",
      "text/plain": [
       "<Figure size 720x360 with 1 Axes>"
      ]
     },
     "metadata": {
      "needs_background": "light"
     },
     "output_type": "display_data"
    }
   ],
   "source": [
    "fig, ax = plt.subplots(figsize=(10, 5))\n",
    "_ = ax.scatter(residual, pred_val)"
   ]
  },
  {
   "cell_type": "code",
   "execution_count": 86,
   "id": "6a958e70-f6ae-465b-8b90-469f2fc4ef14",
   "metadata": {},
   "outputs": [
    {
     "data": {
      "text/plain": [
       "(4.2728947736568506, nan, 5.108947084194294, 0.035112396374401424)"
      ]
     },
     "execution_count": 86,
     "metadata": {},
     "output_type": "execute_result"
    }
   ],
   "source": [
    "sms.diagnostic.het_breuschpagan(residual, Analyze_data[['TempChangeW']])"
   ]
  },
  {
   "cell_type": "code",
   "execution_count": 87,
   "id": "9847abbb-83af-4794-92d7-9e8b3a1cae2f",
   "metadata": {},
   "outputs": [],
   "source": [
    "#### Pvalue < .05 Fail"
   ]
  },
  {
   "cell_type": "code",
   "execution_count": 88,
   "id": "4b7c26a2-89b1-4dd5-a627-acb08ab47fdc",
   "metadata": {},
   "outputs": [
    {
     "data": {
      "text/plain": [
       "Ttest_1sampResult(statistic=-0.14846510368786525, pvalue=0.8837225718355658)"
      ]
     },
     "execution_count": 88,
     "metadata": {},
     "output_type": "execute_result"
    }
   ],
   "source": [
    "sms.linear_harvey_collier(model)"
   ]
  },
  {
   "cell_type": "code",
   "execution_count": 89,
   "id": "289a9fdd-8ee0-4cfe-bc9b-5075fc723409",
   "metadata": {},
   "outputs": [],
   "source": [
    "#### Pvalue > .05 Pass"
   ]
  },
  {
   "cell_type": "code",
   "execution_count": 90,
   "id": "e60d3bf4-3ccb-4607-bd2a-50fb0d6dfd12",
   "metadata": {},
   "outputs": [],
   "source": [
    "#### Testing for outliers"
   ]
  },
  {
   "cell_type": "code",
   "execution_count": 91,
   "id": "da3dc6c3-fc8e-4ea7-90e8-5673efea09cf",
   "metadata": {},
   "outputs": [
    {
     "data": {
      "image/png": "[encoded data removed]",
      "text/plain": [
       "<Figure size 864x576 with 1 Axes>"
      ]
     },
     "metadata": {
      "needs_background": "light"
     },
     "output_type": "display_data"
    }
   ],
   "source": [
    "fig, ax = plt.subplots(figsize=(12,8))\n",
    "fig = sm.graphics.influence_plot(model, alpha = .05, ax = ax, criterion=\"cooks\")"
   ]
  },
  {
   "cell_type": "code",
   "execution_count": 92,
   "id": "402cbccb-ac58-4540-82a9-89a045edb09e",
   "metadata": {},
   "outputs": [
    {
     "name": "stdout",
     "output_type": "stream",
     "text": [
      "    dfb_TempChangeW   cooks_d  standard_resid  hat_diag  dffits_internal  \\\n",
      "0          0.164199  0.026794        1.057430  0.023402         0.163688   \n",
      "1          0.105341  0.011524        0.518816  0.041054         0.107348   \n",
      "2          0.098388  0.009993        0.621305  0.025234         0.099965   \n",
      "3         -0.013855  0.000202       -0.072221  0.037285        -0.014213   \n",
      "4          0.133717  0.018410        0.661276  0.040399         0.135683   \n",
      "5          0.122112  0.015318        0.694406  0.030788         0.123765   \n",
      "6          0.019053  0.000382        0.081049  0.054957         0.019545   \n",
      "7          0.001111  0.000001        0.005351  0.043385         0.001139   \n",
      "8          0.009958  0.000104        0.042756  0.054011         0.010216   \n",
      "9          0.112494  0.009865        2.277848  0.001898         0.099323   \n",
      "10         0.138711  0.017552        1.633377  0.006536         0.132483   \n",
      "11         0.152809  0.023168        1.071695  0.019773         0.152210   \n",
      "12         0.125904  0.015607        1.137087  0.011927         0.124929   \n",
      "13        -0.094200  0.009295       -0.313433  0.086435        -0.096409   \n",
      "14         0.144461  0.020550        1.135830  0.015679         0.143354   \n",
      "15         0.128149  0.015976        1.231273  0.010428         0.126397   \n",
      "16        -0.233024  0.055670       -0.721522  0.096606        -0.235946   \n",
      "17        -1.052524  0.949955       -1.925436  0.203973        -0.974656   \n",
      "18        -0.264529  0.070842       -0.874532  0.084775        -0.266161   \n",
      "19        -0.103966  0.011288       -0.396312  0.067052        -0.106247   \n",
      "20         0.024779  0.000646        0.117896  0.044404         0.025414   \n",
      "\n",
      "    student_resid    dffits  \n",
      "0        1.060733  0.164199  \n",
      "1        0.509117  0.105341  \n",
      "2        0.611503  0.098388  \n",
      "3       -0.070402 -0.013855  \n",
      "4        0.651696  0.133717  \n",
      "5        0.685133  0.122112  \n",
      "6        0.079010  0.019053  \n",
      "7        0.005215  0.001111  \n",
      "8        0.041675  0.009958  \n",
      "9        2.579903  0.112494  \n",
      "10       1.710165  0.138711  \n",
      "11       1.075909  0.152809  \n",
      "12       1.145956  0.125904  \n",
      "13      -0.306250 -0.094200  \n",
      "14       1.144602  0.144461  \n",
      "15       1.248342  0.128149  \n",
      "16      -0.712588 -0.233024  \n",
      "17      -2.079263 -1.052524  \n",
      "18      -0.869169 -0.264529  \n",
      "19      -0.387803 -0.103966  \n",
      "20       0.114951  0.024779  \n"
     ]
    }
   ],
   "source": [
    "infl2 = model.get_influence()\n",
    "print(infl2.summary_frame())"
   ]
  },
  {
   "cell_type": "code",
   "execution_count": 93,
   "id": "0cd67a17-ce94-4b63-8613-0de2a0050bc4",
   "metadata": {},
   "outputs": [
    {
     "data": {
      "text/html": [
       "<table class=\"simpletable\">\n",
       "<caption>OLS Regression Results</caption>\n",
       "<tr>\n",
       "  <th>Dep. Variable:</th>         <td>TonnesW</td>     <th>  R-squared (uncentered):</th>      <td>   0.812</td>\n",
       "</tr>\n",
       "<tr>\n",
       "  <th>Model:</th>                   <td>OLS</td>       <th>  Adj. R-squared (uncentered):</th> <td>   0.802</td>\n",
       "</tr>\n",
       "<tr>\n",
       "  <th>Method:</th>             <td>Least Squares</td>  <th>  F-statistic:       </th>          <td>   86.23</td>\n",
       "</tr>\n",
       "<tr>\n",
       "  <th>Date:</th>             <td>Mon, 04 Apr 2022</td> <th>  Prob (F-statistic):</th>          <td>1.08e-08</td>\n",
       "</tr>\n",
       "<tr>\n",
       "  <th>Time:</th>                 <td>01:53:36</td>     <th>  Log-Likelihood:    </th>          <td> -387.32</td>\n",
       "</tr>\n",
       "<tr>\n",
       "  <th>No. Observations:</th>      <td>    21</td>      <th>  AIC:               </th>          <td>   776.6</td>\n",
       "</tr>\n",
       "<tr>\n",
       "  <th>Df Residuals:</th>          <td>    20</td>      <th>  BIC:               </th>          <td>   777.7</td>\n",
       "</tr>\n",
       "<tr>\n",
       "  <th>Df Model:</th>              <td>     1</td>      <th>                     </th>              <td> </td>   \n",
       "</tr>\n",
       "<tr>\n",
       "  <th>Covariance Type:</th>      <td>nonrobust</td>    <th>                     </th>              <td> </td>   \n",
       "</tr>\n",
       "</table>\n",
       "<table class=\"simpletable\">\n",
       "<tr>\n",
       "       <td></td>          <th>coef</th>     <th>std err</th>      <th>t</th>      <th>P>|t|</th>  <th>[0.025</th>    <th>0.975]</th>  \n",
       "</tr>\n",
       "<tr>\n",
       "  <th>TempChangeW</th> <td> 4.775e+07</td> <td> 5.14e+06</td> <td>    9.286</td> <td> 0.000</td> <td>  3.7e+07</td> <td> 5.85e+07</td>\n",
       "</tr>\n",
       "</table>\n",
       "<table class=\"simpletable\">\n",
       "<tr>\n",
       "  <th>Omnibus:</th>       <td> 0.560</td> <th>  Durbin-Watson:     </th> <td>   0.872</td>\n",
       "</tr>\n",
       "<tr>\n",
       "  <th>Prob(Omnibus):</th> <td> 0.756</td> <th>  Jarque-Bera (JB):  </th> <td>   0.128</td>\n",
       "</tr>\n",
       "<tr>\n",
       "  <th>Skew:</th>          <td>-0.191</td> <th>  Prob(JB):          </th> <td>   0.938</td>\n",
       "</tr>\n",
       "<tr>\n",
       "  <th>Kurtosis:</th>      <td> 3.012</td> <th>  Cond. No.          </th> <td>    1.00</td>\n",
       "</tr>\n",
       "</table><br/><br/>Notes:<br/>[1] R² is computed without centering (uncentered) since the model does not contain a constant.<br/>[2] Standard Errors assume that the covariance matrix of the errors is correctly specified."
      ],
      "text/plain": [
       "<class 'statsmodels.iolib.summary.Summary'>\n",
       "\"\"\"\n",
       "                                 OLS Regression Results                                \n",
       "=======================================================================================\n",
       "Dep. Variable:                TonnesW   R-squared (uncentered):                   0.812\n",
       "Model:                            OLS   Adj. R-squared (uncentered):              0.802\n",
       "Method:                 Least Squares   F-statistic:                              86.23\n",
       "Date:                Mon, 04 Apr 2022   Prob (F-statistic):                    1.08e-08\n",
       "Time:                        01:53:36   Log-Likelihood:                         -387.32\n",
       "No. Observations:                  21   AIC:                                      776.6\n",
       "Df Residuals:                      20   BIC:                                      777.7\n",
       "Df Model:                           1                                                  \n",
       "Covariance Type:            nonrobust                                                  \n",
       "===============================================================================\n",
       "                  coef    std err          t      P>|t|      [0.025      0.975]\n",
       "-------------------------------------------------------------------------------\n",
       "TempChangeW  4.775e+07   5.14e+06      9.286      0.000     3.7e+07    5.85e+07\n",
       "==============================================================================\n",
       "Omnibus:                        0.560   Durbin-Watson:                   0.872\n",
       "Prob(Omnibus):                  0.756   Jarque-Bera (JB):                0.128\n",
       "Skew:                          -0.191   Prob(JB):                        0.938\n",
       "Kurtosis:                       3.012   Cond. No.                         1.00\n",
       "==============================================================================\n",
       "\n",
       "Notes:\n",
       "[1] R² is computed without centering (uncentered) since the model does not contain a constant.\n",
       "[2] Standard Errors assume that the covariance matrix of the errors is correctly specified.\n",
       "\"\"\""
      ]
     },
     "execution_count": 93,
     "metadata": {},
     "output_type": "execute_result"
    }
   ],
   "source": [
    "model.summary()"
   ]
  },
  {
   "cell_type": "code",
   "execution_count": 94,
   "id": "26c2b77c-a97f-4d39-bc09-33d1c06c1b10",
   "metadata": {},
   "outputs": [],
   "source": [
    "#### Omnibus: This is a test of skew and kurtosis of the residual. You want a value close to zero, which would indicate \n",
    "#### normality. Omnibus: 0.560 pass\n",
    "#### Prob(Omnibus): This is a test indicating the probabilty that residulas are normally distributed. You would like to see \n",
    "#### a value close to zero here, to inidcate a normal distribution. failed\n",
    "#### Skew: Again, you would like to see a value close to zero, and this result feeds into the Omnibus test \n",
    "#### discussed above. pass\n",
    "#### Kurtosis: If you have a value close to zero, this means our data is relatively normal. failed\n",
    "#### Durbin-Watson: This also tests for homoscedasticity! You would like a value between 1 and 2, otherwise you have the \n",
    "#### presence of heteroscedasticity within your data. Fail\n",
    "#### Jarque-Bera (JB): This also tests skew and kurtosis. It should also be close to zero. Pass\n",
    "#### Prob (JB): The probabilty that JB is normal. You would like this to be close to zero as well. Failed\n",
    "#### bCondition Number: You would like to see a condition number below 30 or so, becasue that indicates low \n",
    "#### multicollinearity. If you have higher than 30, it's time to suspect related variables! Pass"
   ]
  },
  {
   "cell_type": "code",
   "execution_count": null,
   "id": "2e3af74b-163e-4222-92bf-e6c2338748c2",
   "metadata": {},
   "outputs": [],
   "source": []
  }
 ],
 "metadata": {
  "kernelspec": {
   "display_name": "Python 3",
   "language": "python",
   "name": "python3"
  },
  "language_info": {
   "codemirror_mode": {
    "name": "ipython",
    "version": 3
   },
   "file_extension": ".py",
   "mimetype": "text/x-python",
   "name": "python",
   "nbconvert_exporter": "python",
   "pygments_lexer": "ipython3",
   "version": "3.8.8"
  }
 },
 "nbformat": 4,
 "nbformat_minor": 5
}
