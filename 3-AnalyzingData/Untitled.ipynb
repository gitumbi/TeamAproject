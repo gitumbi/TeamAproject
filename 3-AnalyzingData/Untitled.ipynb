{
 "cells": [
  {
   "cell_type": "code",
   "execution_count": 1,
   "id": "c3ad539a-cdbe-476f-917c-c133c7b3de3f",
   "metadata": {},
   "outputs": [],
   "source": [
    "import pandas as pd\n",
    "from sklearn.linear_model import LinearRegression\n",
    "from sklearn.model_selection import train_test_split\n",
    "import matplotlib.pyplot as plt\n",
    "%matplotlib inline\n",
    "from sklearn import metrics\n",
    "import numpy as np"
   ]
  },
  {
   "cell_type": "code",
   "execution_count": null,
   "id": "b4e52a96-7c12-41d3-b019-4944a0c2b482",
   "metadata": {},
   "outputs": [],
   "source": [
    "##Machine Learning"
   ]
  },
  {
   "cell_type": "code",
   "execution_count": 9,
   "id": "48fc1530-0cb9-4a2a-baaa-6905cd92ee76",
   "metadata": {},
   "outputs": [],
   "source": [
    "#Predicting future earning for Maize as a result of TempChange"
   ]
  },
  {
   "cell_type": "code",
   "execution_count": 2,
   "id": "1edffaec-90c0-4237-8e09-056a9ed8bf23",
   "metadata": {},
   "outputs": [],
   "source": [
    "Predict_data = pd.read_csv (\"Final_data.csv\")"
   ]
  },
  {
   "cell_type": "code",
   "execution_count": 5,
   "id": "60b67dff-0266-4fe4-8575-472d036a8bf2",
   "metadata": {},
   "outputs": [],
   "source": [
    "x = Predict_data[['TempChangeM']]"
   ]
  },
  {
   "cell_type": "code",
   "execution_count": 6,
   "id": "eb957cb2-13ac-473d-b054-f647f56096fb",
   "metadata": {},
   "outputs": [],
   "source": [
    "y = Predict_data['US$1000M']"
   ]
  },
  {
   "cell_type": "code",
   "execution_count": 7,
   "id": "a440e432-bdb5-4097-8d8a-0ac746ff8af0",
   "metadata": {},
   "outputs": [],
   "source": [
    "x_train, x_test, y_train, y_test = train_test_split(x,y, test_size = .4, random_state=101)"
   ]
  },
  {
   "cell_type": "code",
   "execution_count": 8,
   "id": "985ebac7-0c60-46e1-a9ab-42dcc41e6ed9",
   "metadata": {},
   "outputs": [
    {
     "name": "stdout",
     "output_type": "stream",
     "text": [
      "(12, 1) (12,)\n",
      "(9, 1) (9,)\n"
     ]
    }
   ],
   "source": [
    "print(x_train.shape, y_train.shape)\n",
    "print(x_test.shape, y_test.shape)"
   ]
  },
  {
   "cell_type": "code",
   "execution_count": 10,
   "id": "293f4d42-2800-491e-b3b8-4ee74eac0f63",
   "metadata": {},
   "outputs": [
    {
     "data": {
      "text/plain": [
       "LinearRegression()"
      ]
     },
     "execution_count": 10,
     "metadata": {},
     "output_type": "execute_result"
    }
   ],
   "source": [
    "lm = LinearRegression()\n",
    "lm.fit(x_train, y_train)"
   ]
  },
  {
   "cell_type": "code",
   "execution_count": 11,
   "id": "72df99b4-9e37-41e0-bf70-dea0757a86f0",
   "metadata": {},
   "outputs": [
    {
     "data": {
      "text/plain": [
       "array([46220999.96981078, 48117129.8707559 , 45089812.44944256,\n",
       "       45873298.88773039, 46091191.56583411, 48566823.27024654,\n",
       "       47380003.57674545, 43953988.91464659, 43304946.89476317])"
      ]
     },
     "execution_count": 11,
     "metadata": {},
     "output_type": "execute_result"
    }
   ],
   "source": [
    "predictions = lm.predict(x_test)\n",
    "predictions"
   ]
  },
  {
   "cell_type": "code",
   "execution_count": 12,
   "id": "2c57aa0e-ab38-4335-8122-04e2083cc8a8",
   "metadata": {},
   "outputs": [
    {
     "data": {
      "text/plain": [
       "<matplotlib.collections.PathCollection at 0x15712ee0bb0>"
      ]
     },
     "execution_count": 12,
     "metadata": {},
     "output_type": "execute_result"
    },
    {
     "data": {
      "image/png": "[encoded data removed]",
      "text/plain": [
       "<Figure size 432x288 with 1 Axes>"
      ]
     },
     "metadata": {
      "needs_background": "light"
     },
     "output_type": "display_data"
    }
   ],
   "source": [
    "plt.scatter(y_test, predictions)"
   ]
  },
  {
   "cell_type": "code",
   "execution_count": null,
   "id": "e709a175-baa1-48a1-8b5f-461ea28bf1b1",
   "metadata": {},
   "outputs": [],
   "source": []
  }
 ],
 "metadata": {
  "kernelspec": {
   "display_name": "Python 3",
   "language": "python",
   "name": "python3"
  },
  "language_info": {
   "codemirror_mode": {
    "name": "ipython",
    "version": 3
   },
   "file_extension": ".py",
   "mimetype": "text/x-python",
   "name": "python",
   "nbconvert_exporter": "python",
   "pygments_lexer": "ipython3",
   "version": "3.8.8"
  }
 },
 "nbformat": 4,
 "nbformat_minor": 5
}
